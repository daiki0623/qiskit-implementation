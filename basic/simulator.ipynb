{
 "metadata": {
  "language_info": {
   "codemirror_mode": {
    "name": "ipython",
    "version": 3
   },
   "file_extension": ".py",
   "mimetype": "text/x-python",
   "name": "python",
   "nbconvert_exporter": "python",
   "pygments_lexer": "ipython3",
   "version": "3.8.10"
  },
  "orig_nbformat": 2,
  "kernelspec": {
   "name": "python3810jvsc74a57bd057e5a6ce76ae3f7b8d4469fd62f69a671bd0c3363960d2c58a24ba447aa7d65f",
   "display_name": "Python 3.8.10 64-bit ('qiskit': conda)"
  }
 },
 "nbformat": 4,
 "nbformat_minor": 2,
 "cells": [
  {
   "source": [
    "# Simulator"
   ],
   "cell_type": "markdown",
   "metadata": {}
  },
  {
   "cell_type": "code",
   "execution_count": 2,
   "metadata": {},
   "outputs": [],
   "source": [
    "from qiskit import *\n",
    "import qiskit.quantum_info as qi"
   ]
  },
  {
   "source": [
    "利用可能なバックエンドを表示"
   ],
   "cell_type": "markdown",
   "metadata": {}
  },
  {
   "cell_type": "code",
   "execution_count": 3,
   "metadata": {},
   "outputs": [
    {
     "output_type": "execute_result",
     "data": {
      "text/plain": [
       "[AerSimulator('aer_simulator'),\n",
       " AerSimulator('aer_simulator_statevector'),\n",
       " AerSimulator('aer_simulator_density_matrix'),\n",
       " AerSimulator('aer_simulator_stabilizer'),\n",
       " AerSimulator('aer_simulator_matrix_product_state'),\n",
       " AerSimulator('aer_simulator_extended_stabilizer'),\n",
       " AerSimulator('aer_simulator_unitary'),\n",
       " AerSimulator('aer_simulator_superop'),\n",
       " QasmSimulator('qasm_simulator'),\n",
       " StatevectorSimulator('statevector_simulator'),\n",
       " UnitarySimulator('unitary_simulator'),\n",
       " PulseSimulator('pulse_simulator')]"
      ]
     },
     "metadata": {},
     "execution_count": 3
    }
   ],
   "source": [
    "Aer.backends()"
   ]
  },
  {
   "source": [
    "## Aer Simulator\n",
    "実デバイスのモックに相当するシミュレーターで基本的に他のシミュレータの代替が可能<br>\n",
    "参考:https://qiskit.org/documentation/tutorials/simulators/1_aer_provider.html"
   ],
   "cell_type": "markdown",
   "metadata": {}
  },
  {
   "cell_type": "code",
   "execution_count": 4,
   "metadata": {},
   "outputs": [],
   "source": [
    "backend = Aer.get_backend('aer_simulator')"
   ]
  },
  {
   "cell_type": "code",
   "execution_count": 8,
   "metadata": {},
   "outputs": [],
   "source": [
    "bell = QuantumCircuit(2)\n",
    "bell.h(0)\n",
    "bell.cx(0, 1)\n",
    "bell.measure_all()"
   ]
  },
  {
   "cell_type": "code",
   "execution_count": 9,
   "metadata": {},
   "outputs": [
    {
     "output_type": "stream",
     "name": "stdout",
     "text": [
      "{'11': 493, '00': 507}\n"
     ]
    }
   ],
   "source": [
    "result = execute(bell, backend, shots=1000).result()\n",
    "counts = result.get_counts()\n",
    "print(counts)"
   ]
  },
  {
   "cell_type": "code",
   "execution_count": 10,
   "metadata": {},
   "outputs": [
    {
     "output_type": "stream",
     "name": "stdout",
     "text": [
      "{'00': 496, '11': 528}\n"
     ]
    }
   ],
   "source": [
    "result = backend.run(bell, shots=1000).result()\n",
    "counts = result.get_counts()\n",
    "print(counts)\n"
   ]
  },
  {
   "source": [
    "各shot結果を表示することも可能"
   ],
   "cell_type": "markdown",
   "metadata": {}
  },
  {
   "cell_type": "code",
   "execution_count": 11,
   "metadata": {},
   "outputs": [
    {
     "output_type": "stream",
     "name": "stdout",
     "text": [
      "['00', '00', '00', '11', '00', '11', '11', '00', '11', '11']\n"
     ]
    }
   ],
   "source": [
    "result = backend.run(bell, shots=10, memory=True).result()\n",
    "memory = result.get_memory(bell)\n",
    "print(memory)"
   ]
  },
  {
   "source": [
    "## QASM Simulator\n",
    "実機のモックで途中の状態を見ることは出来ない"
   ],
   "cell_type": "markdown",
   "metadata": {}
  },
  {
   "cell_type": "code",
   "execution_count": 17,
   "metadata": {},
   "outputs": [],
   "source": [
    "# BasicAerはpythonベースのシミュレーターでAerと完全互換性を持っている(AerはC++)\n",
    "# BasicAer is a factory for an Aer instance with default settings.\n",
    "from qiskit import BasicAer\n",
    "backend = BasicAer.get_backend('qasm_simulator')"
   ]
  },
  {
   "source": [
    "## Statevector Simulator"
   ],
   "cell_type": "markdown",
   "metadata": {}
  },
  {
   "cell_type": "code",
   "execution_count": 11,
   "metadata": {},
   "outputs": [],
   "source": [
    "backend = Aer.get_backend('statevector_simulator')"
   ]
  },
  {
   "cell_type": "code",
   "execution_count": 13,
   "metadata": {},
   "outputs": [
    {
     "output_type": "stream",
     "name": "stdout",
     "text": [
      "[0.70710678+0.j 0.        +0.j 0.        +0.j 0.70710678+0.j]\n"
     ]
    }
   ],
   "source": [
    "qc = QuantumCircuit(2)\n",
    "qc.h(0)\n",
    "qc.cx(0, 1)\n",
    "\n",
    "result = backend.run(qc).result()\n",
    "state_vector = result.get_statevector()\n",
    "print(state_vector)"
   ]
  },
  {
   "source": [
    "##  Unitary Simulator"
   ],
   "cell_type": "markdown",
   "metadata": {}
  },
  {
   "cell_type": "code",
   "execution_count": 6,
   "metadata": {},
   "outputs": [],
   "source": [
    "# from qiskit import BasicAer\n",
    "# backend = BasicAer.get_backend('unitary_simulator')\n",
    "backend = Aer.get_backend('unitary_simulator')"
   ]
  },
  {
   "source": [
    "[qiskit.compiler.assemble](https://qiskit.org/documentation/stubs/qiskit.compiler.assemble.html)は量子回路のリストを`Qobj`にまとめるメソッド"
   ],
   "cell_type": "markdown",
   "metadata": {}
  },
  {
   "cell_type": "code",
   "execution_count": 8,
   "metadata": {},
   "outputs": [
    {
     "output_type": "stream",
     "name": "stdout",
     "text": [
      "[[ 0.        +0.00000000e+00j  0.        +0.00000000e+00j\n   0.70710678+0.00000000e+00j  0.70710678-8.65956056e-17j]\n [ 0.        +0.00000000e+00j  0.        +0.00000000e+00j\n   0.70710678+0.00000000e+00j -0.70710678+8.65956056e-17j]\n [ 0.70710678+0.00000000e+00j  0.70710678-8.65956056e-17j\n   0.        +0.00000000e+00j  0.        +0.00000000e+00j]\n [ 0.70710678+0.00000000e+00j -0.70710678+8.65956056e-17j\n   0.        +0.00000000e+00j  0.        +0.00000000e+00j]]\n"
     ]
    }
   ],
   "source": [
    "qc = QuantumCircuit(2)\n",
    "qc.h(0)\n",
    "qc.x(1)\n",
    "\n",
    "# qobj = assemble(qc)\n",
    "\n",
    "result = backend.run(qc).result()\n",
    "unitary = result.get_unitary()\n",
    "print(unitary)"
   ]
  },
  {
   "cell_type": "code",
   "execution_count": null,
   "metadata": {},
   "outputs": [],
   "source": []
  }
 ]
}