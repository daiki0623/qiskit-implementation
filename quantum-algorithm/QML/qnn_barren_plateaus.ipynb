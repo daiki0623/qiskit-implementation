{
 "cells": [
  {
   "cell_type": "markdown",
   "source": [
    "# Barren Plateaus問題"
   ],
   "metadata": {}
  },
  {
   "cell_type": "markdown",
   "source": [
    "Barren Plateau問題とは、  \r\n",
    "量子ニューラルネットワークにおいてパラメータがランダムに初期化された場合、  \r\n",
    "量子ビットや量子回路の深さの増加に伴い勾配が消失して学習が停滞してしまう現象のこと。\r\n",
    "\r\n",
    "本notebookではランダムに初期化されたパラメータを持つ量子ニューラルネットワークにおいて、  \r\n",
    "量子ビット数の増加に伴って勾配が消失することをシミュレータ上で検証する。"
   ],
   "metadata": {}
  },
  {
   "cell_type": "code",
   "execution_count": 27,
   "source": [
    "import numpy as np\r\n",
    "import matplotlib.pyplot as plt\r\n",
    "\r\n",
    "from qiskit import QuantumCircuit\r\n",
    "from qiskit.circuit import Parameter\r\n",
    "from qiskit.opflow import StateFn, PauliSumOp, Gradient"
   ],
   "outputs": [],
   "metadata": {}
  },
  {
   "cell_type": "markdown",
   "source": [
    "# ランダム回路の生成\r\n"
   ],
   "metadata": {}
  },
  {
   "cell_type": "markdown",
   "source": [
    "例としてパラメータ1つの量子回路で、そのほかはランダムに初期化されている回転ゲートを含む回路を実装する。"
   ],
   "metadata": {}
  },
  {
   "cell_type": "code",
   "execution_count": 28,
   "source": [
    "# def generate_random_qnn(qubits, symbol, depth):\r\n",
    "#     \"\"\"Generate random QNN's with the same structure from McClean et al.\"\"\"\r\n",
    "#     circuit = QuantumCircuit(qubits)\r\n",
    "#     for qubit in range(qubits):\r\n",
    "#         circuit.ry(np.pi / 4.0, qubit)\r\n",
    "\r\n",
    "#     for d in range(depth):\r\n",
    "#         # Add a series of single qubit rotations.\r\n",
    "#         for qubit in range(qubits):\r\n",
    "#             random_n = np.random.uniform()\r\n",
    "#             random_rot = np.random.uniform() * 2.0 * np.pi if qubit != 0 or d != 0 else symbol\r\n",
    "#             circuit.rz(random_rot, qubit)\r\n",
    "#             if random_n > 2. / 3.:\r\n",
    "#                 # Add a Z.\r\n",
    "#                 circuit.rz(random_rot, qubit)\r\n",
    "#             elif random_n > 1. / 3.:\r\n",
    "#                 # Add a Y.\r\n",
    "#                 circuit.ry(random_rot, qubit)\r\n",
    "#             else:\r\n",
    "#                 # Add a X.\r\n",
    "#                 circuit.rx(random_rot, qubit)\r\n",
    "\r\n",
    "#         # Add CZ ladder.\r\n",
    "#         for src, dest in zip(range(qubits), range(qubits)[1:]):\r\n",
    "#             circuit.cz(src, dest)\r\n",
    "\r\n",
    "#     return circuit"
   ],
   "outputs": [],
   "metadata": {}
  },
  {
   "cell_type": "code",
   "execution_count": 29,
   "source": [
    "# 生成される回路の確認(例:3量子ビット)\r\n",
    "# qc_test = generate_random_qnn(3, Parameter('theta'), 2)\r\n",
    "# qc_test.draw('mpl')"
   ],
   "outputs": [],
   "metadata": {}
  },
  {
   "cell_type": "code",
   "execution_count": 30,
   "source": [
    "def generate_real_amplitude_qnn(qubits, symbol, depth):\r\n",
    "    \"\"\"Generate random QNN's with the same structure from McClean et al.\"\"\"\r\n",
    "    circuit = QuantumCircuit(qubits)\r\n",
    "\r\n",
    "    for d in range(depth):\r\n",
    "        for qubit in range(qubits):\r\n",
    "            random_rot = np.random.uniform() * 2.0 * np.pi if qubit != 0 or d != 0 else symbol\r\n",
    "            circuit.ry(random_rot, qubit)\r\n",
    "        for control in range(qubits-1):\r\n",
    "            for target in range(control+1, qubits):\r\n",
    "                circuit.cx(control, target) \r\n",
    "\r\n",
    "    return circuit"
   ],
   "outputs": [],
   "metadata": {}
  },
  {
   "cell_type": "code",
   "execution_count": 31,
   "source": [
    "# 生成される回路の確認(例:3量子ビット)\r\n",
    "qc_test = generate_real_amplitude_qnn(3, Parameter('theta'), 2)\r\n",
    "qc_test.draw('mpl')"
   ],
   "outputs": [
    {
     "output_type": "execute_result",
     "data": {
      "image/png": "[encoded data removed]",
      "text/plain": [
       "<Figure size 568.197x204.68 with 1 Axes>"
      ]
     },
     "metadata": {},
     "execution_count": 31
    }
   ],
   "metadata": {}
  },
  {
   "cell_type": "code",
   "execution_count": 32,
   "source": [
    "# 与えられた量子回路と演算子から期待値の勾配を求める関数を定義\r\n",
    "def process_batch(circuits, H):\r\n",
    "    grads = []\r\n",
    "    for qc in circuits:\r\n",
    "        qc_sfn = StateFn(qc)\r\n",
    "        op = ~H @ qc_sfn\r\n",
    "\r\n",
    "        weights = np.random.rand(qc.num_parameters)\r\n",
    "        qc_params = qc.parameters.data\r\n",
    "        param_dict = dict(zip(qc_params, weights))\r\n",
    "        \r\n",
    "        # パラメータシフト法で演算子の期待値に対するパラメータ微分を計算\r\n",
    "        state_grad = Gradient(grad_method=\"param_shift\").convert(operator=op, params=qc_params)\r\n",
    "        grad = state_grad.assign_parameters(param_dict).eval()\r\n",
    "        grads.append(np.array(grad).real[0])\r\n",
    "    grad_var = np.var(grads)\r\n",
    "    return grad_var"
   ],
   "outputs": [],
   "metadata": {}
  },
  {
   "cell_type": "markdown",
   "source": [
    "# 実行\r\n",
    "注意：30分ほどかかります\r\n",
    "\r\n",
    "量子ビットの数が増加するにつれて勾配の分散が減少しており、勾配が消失していることがわかる。"
   ],
   "metadata": {}
  },
  {
   "cell_type": "code",
   "execution_count": 33,
   "source": [
    "from qiskit_machine_learning.neural_networks import TwoLayerQNN\r\n",
    "\r\n",
    "n_qubits = [2 * i for i in range(2, 7)]  # Ranges studied in paper are between 2 and 24.\r\n",
    "depth = 50  # Ranges studied in paper are between 50 and 500.\r\n",
    "n_circuits = 200\r\n",
    "theta_var = []\r\n",
    "\r\n",
    "for n in n_qubits:\r\n",
    "    # Generate the random circuits and observable for the given n.\r\n",
    "    symbol = Parameter('theta')\r\n",
    "    circuits = [\r\n",
    "        # generate_random_qnn(n, symbol, depth) for _ in range(n_circuits)\r\n",
    "        real_amplitude_qnn(n, symbol, depth) for _ in range(n_circuits)\r\n",
    "    ]\r\n",
    "    H = StateFn(PauliSumOp.from_list([('Z', 1.0), ('X', 1.0)]))\r\n",
    "    theta_var.append(process_batch(circuits, H))\r\n",
    "\r\n",
    "plt.semilogy(n_qubits, theta_var)\r\n",
    "plt.title('Gradient Variance in QNNs')\r\n",
    "plt.xlabel('n_qubits')\r\n",
    "plt.ylabel('$\\\\partial \\\\theta$ variance')\r\n",
    "plt.show()"
   ],
   "outputs": [
    {
     "output_type": "display_data",
     "data": {
      "image/png": "[encoded data removed]",
      "text/plain": [
       "<Figure size 432x288 with 1 Axes>"
      ]
     },
     "metadata": {
      "needs_background": "light"
     }
    }
   ],
   "metadata": {}
  },
  {
   "cell_type": "code",
   "execution_count": 34,
   "source": [
    "# 対数表示でないver\r\n",
    "plt.plot(n_qubits, theta_var)\r\n",
    "plt.title('Gradient Variance in QNNs')\r\n",
    "plt.xlabel('n_qubits')\r\n",
    "plt.ylabel('$\\\\partial \\\\theta$ variance')\r\n",
    "plt.show()"
   ],
   "outputs": [
    {
     "output_type": "display_data",
     "data": {
      "image/png": "[encoded data removed]",
      "text/plain": [
       "<Figure size 432x288 with 1 Axes>"
      ]
     },
     "metadata": {
      "needs_background": "light"
     }
    }
   ],
   "metadata": {}
  },
  {
   "cell_type": "markdown",
   "source": [
    "## reference\r\n",
    "\r\n",
    "- https://www.tensorflow.org/quantum/tutorials/barren_plateaus\r\n",
    "- https://www.nature.com/articles/s41467-018-07090-4.pdf\r\n",
    "- https://blog.tensorflow.org/2020/08/layerwise-learning-for-quantum-neural-networks.html"
   ],
   "metadata": {}
  },
  {
   "cell_type": "code",
   "execution_count": 35,
   "source": [
    "import qiskit.tools.jupyter\r\n",
    "%qiskit_version_table"
   ],
   "outputs": [
    {
     "output_type": "display_data",
     "data": {
      "text/html": [
       "<h3>Version Information</h3><table><tr><th>Qiskit Software</th><th>Version</th></tr><tr><td>Qiskit</td><td>0.26.2</td></tr><tr><td>Terra</td><td>0.17.4</td></tr><tr><td>Aer</td><td>0.8.2</td></tr><tr><td>Ignis</td><td>0.6.0</td></tr><tr><td>Aqua</td><td>0.9.1</td></tr><tr><td>IBM Q Provider</td><td>0.13.1</td></tr><tr><th>System information</th></tr><tr><td>Python</td><td>3.8.10 (default, May 19 2021, 13:12:57) [MSC v.1916 64 bit (AMD64)]</td></tr><tr><td>OS</td><td>Windows</td></tr><tr><td>CPUs</td><td>4</td></tr><tr><td>Memory (Gb)</td><td>29.88125991821289</td></tr><tr><td colspan='2'>Mon Sep 13 17:28:09 2021 東京 (標準時)</td></tr></table>"
      ],
      "text/plain": [
       "<IPython.core.display.HTML object>"
      ]
     },
     "metadata": {}
    }
   ],
   "metadata": {}
  }
 ],
 "metadata": {
  "orig_nbformat": 4,
  "language_info": {
   "name": "python",
   "version": "3.8.10",
   "mimetype": "text/x-python",
   "codemirror_mode": {
    "name": "ipython",
    "version": 3
   },
   "pygments_lexer": "ipython3",
   "nbconvert_exporter": "python",
   "file_extension": ".py"
  },
  "kernelspec": {
   "name": "python3",
   "display_name": "Python 3.8.10 64-bit ('qiskit': conda)"
  },
  "interpreter": {
   "hash": "57e5a6ce76ae3f7b8d4469fd62f69a671bd0c3363960d2c58a24ba447aa7d65f"
  }
 },
 "nbformat": 4,
 "nbformat_minor": 2
}