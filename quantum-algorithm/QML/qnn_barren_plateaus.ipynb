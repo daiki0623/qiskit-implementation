{
 "cells": [
  {
   "cell_type": "markdown",
   "metadata": {},
   "source": [
    "# Barren Plateaus問題"
   ]
  },
  {
   "cell_type": "markdown",
   "metadata": {},
   "source": [
    "Barren Plateau問題とは、  \n",
    "量子ニューラルネットワークにおいてパラメータがランダムに初期化された場合、  \n",
    "量子ビットや量子回路の深さの増加に伴い勾配が消失して学習が停滞してしまう現象のこと。\n",
    "\n",
    "本notebookではランダムに初期化されたパラメータを持つ量子ニューラルネットワークにおいて、  \n",
    "量子ビット数の増加に伴って勾配が消失することをシミュレータ上で検証する。"
   ]
  },
  {
   "cell_type": "code",
   "execution_count": 1,
   "metadata": {},
   "outputs": [],
   "source": [
    "import numpy as np\n",
    "import matplotlib.pyplot as plt\n",
    "\n",
    "from qiskit import QuantumCircuit\n",
    "from qiskit.circuit import Parameter\n",
    "from qiskit.opflow import StateFn, PauliSumOp, Gradient"
   ]
  },
  {
   "cell_type": "markdown",
   "metadata": {},
   "source": [
    "# ランダム回路の生成\n"
   ]
  },
  {
   "cell_type": "markdown",
   "metadata": {},
   "source": [
    "例としてパラメータ1つの量子回路で、そのほかはランダムに初期化されている回転ゲートを含む回路を実装する。"
   ]
  },
  {
   "cell_type": "code",
   "execution_count": 2,
   "metadata": {},
   "outputs": [],
   "source": [
    "def generate_random_qnn(qubits, symbol, depth):\n",
    "    \"\"\"Generate random QNN's with the same structure from McClean et al.\"\"\"\n",
    "    circuit = QuantumCircuit(qubits)\n",
    "    for qubit in range(qubits):\n",
    "        circuit.ry(np.pi / 4.0, qubit)\n",
    "\n",
    "    for d in range(depth):\n",
    "        # Add a series of single qubit rotations.\n",
    "        for qubit in range(qubits):\n",
    "            random_n = np.random.uniform()\n",
    "            random_rot = np.random.uniform() * 2.0 * np.pi if qubit != 0 or d != 0 else symbol\n",
    "            circuit.rz(random_rot, qubit)\n",
    "            if random_n > 2. / 3.:\n",
    "                # Add a Z.\n",
    "                circuit.rz(random_rot, qubit)\n",
    "            elif random_n > 1. / 3.:\n",
    "                # Add a Y.\n",
    "                circuit.ry(random_rot, qubit)\n",
    "            else:\n",
    "                # Add a X.\n",
    "                circuit.rx(random_rot, qubit)\n",
    "\n",
    "        # Add CZ ladder.\n",
    "        for src, dest in zip(range(qubits), range(qubits)[1:]):\n",
    "            circuit.cz(src, dest)\n",
    "\n",
    "    return circuit"
   ]
  },
  {
   "cell_type": "code",
   "execution_count": 3,
   "metadata": {},
   "outputs": [
    {
     "data": {
      "image/png": "[encoded data removed]",
      "text/plain": [
       "<Figure size 628.397x204.68 with 1 Axes>"
      ]
     },
     "execution_count": 3,
     "metadata": {},
     "output_type": "execute_result"
    }
   ],
   "source": [
    "# 生成される回路の確認(例:3量子ビット)\n",
    "qc_test = generate_random_qnn(3, Parameter('theta'), 2)\n",
    "qc_test.draw('mpl')"
   ]
  },
  {
   "cell_type": "code",
   "execution_count": 4,
   "metadata": {},
   "outputs": [],
   "source": [
    "# 勾配の計算\n",
    "def calc_gradient(qc, hamiltonian, params):\n",
    "    expectation = StateFn(hamiltonian, is_measurement=True) @ StateFn(qc)\n",
    "    state_grad = Gradient().convert(expectation)\n",
    "    value_dict = dict(zip(qc.parameters, params))\n",
    "    result = state_grad.assign_parameters(value_dict).eval()\n",
    "    return np.round(np.array(result).real, 10)"
   ]
  },
  {
   "cell_type": "markdown",
   "metadata": {},
   "source": [
    "# 実行\n",
    "注意：30分ほどかかります\n",
    "\n",
    "量子ビットの数が増加するにつれて勾配の分散が減少しており、勾配が消失していることがわかる。"
   ]
  },
  {
   "cell_type": "code",
   "execution_count": 7,
   "metadata": {},
   "outputs": [
    {
     "data": {
      "image/png": "[encoded data removed]",
      "text/plain": [
       "<Figure size 432x288 with 1 Axes>"
      ]
     },
     "metadata": {
      "needs_background": "light"
     },
     "output_type": "display_data"
    }
   ],
   "source": [
    "n_qubits = [2 * i for i in range(2, 7)]\n",
    "depth = 30\n",
    "n_circuits = 100\n",
    "hamiltonian = PauliSumOp.from_list([('Z', 1.0), ('X', 1.0)])\n",
    "theta_vars = []\n",
    "\n",
    "for n in n_qubits:\n",
    "    grads = []\n",
    "    for _ in range(n_circuits):\n",
    "        # Generate the random circuits and observable for the given n.\n",
    "        qc = generate_random_qnn(n, Parameter('theta'), depth)\n",
    "        params = np.random.uniform(0, np.pi, qc.num_parameters)\n",
    "        grads.append(calc_gradient(qc, hamiltonian, params))\n",
    "    theta_vars.append(np.var(grads))\n",
    "\n",
    "plt.semilogy(n_qubits, theta_vars)\n",
    "plt.title('Gradient Variance in QNNs')\n",
    "plt.xlabel('n_qubits')\n",
    "plt.ylabel('$\\\\partial \\\\theta$ variance')\n",
    "plt.show()"
   ]
  },
  {
   "cell_type": "code",
   "execution_count": null,
   "metadata": {},
   "outputs": [],
   "source": []
  },
  {
   "cell_type": "markdown",
   "metadata": {},
   "source": [
    "## reference\n",
    "\n",
    "- https://www.tensorflow.org/quantum/tutorials/barren_plateaus\n",
    "- https://learn.qiskit.org/course/machine-learning/training-quantum-circuits#training-48-4\n",
    "- https://www.nature.com/articles/s41467-018-07090-4.pdf"
   ]
  },
  {
   "cell_type": "code",
   "execution_count": 6,
   "metadata": {},
   "outputs": [
    {
     "data": {
      "text/html": [
       "<h3>Version Information</h3><table><tr><th>Qiskit Software</th><th>Version</th></tr><tr><td><code>qiskit-terra</code></td><td>0.20.0</td></tr><tr><td><code>qiskit-aer</code></td><td>0.10.4</td></tr><tr><th>System information</th></tr><tr><td>Python version</td><td>3.10.4</td></tr><tr><td>Python compiler</td><td>Clang 12.0.0 </td></tr><tr><td>Python build</td><td>main, Mar 31 2022 03:38:35</td></tr><tr><td>OS</td><td>Darwin</td></tr><tr><td>CPUs</td><td>2</td></tr><tr><td>Memory (Gb)</td><td>16.0</td></tr><tr><td colspan='2'>Sat Jun 04 08:20:17 2022 JST</td></tr></table>"
      ],
      "text/plain": [
       "<IPython.core.display.HTML object>"
      ]
     },
     "metadata": {},
     "output_type": "display_data"
    }
   ],
   "source": [
    "import qiskit.tools.jupyter\n",
    "%qiskit_version_table"
   ]
  }
 ],
 "metadata": {
  "interpreter": {
   "hash": "d202dba61e206f1fbca2ce83f86f7964f5a02d535618c4d10368a65473055382"
  },
  "kernelspec": {
   "display_name": "Python 3.10.4 ('QiskitDevenv')",
   "language": "python",
   "name": "python3"
  },
  "language_info": {
   "codemirror_mode": {
    "name": "ipython",
    "version": 3
   },
   "file_extension": ".py",
   "mimetype": "text/x-python",
   "name": "python",
   "nbconvert_exporter": "python",
   "pygments_lexer": "ipython3",
   "version": "3.10.4"
  },
  "orig_nbformat": 4
 },
 "nbformat": 4,
 "nbformat_minor": 2
}
