{
 "cells": [
  {
   "cell_type": "markdown",
   "metadata": {},
   "source": [
    "# Parameter-Shift法\n",
    "解説記事は[こちら](https://www.investor-daiki.com/it/qiskit-parameter-shift)をご覧ください。"
   ]
  },
  {
   "cell_type": "code",
   "execution_count": 1,
   "metadata": {},
   "outputs": [],
   "source": [
    "from qiskit import Aer\n",
    "from qiskit.circuit import QuantumCircuit, ParameterVector\n",
    "from qiskit.opflow import I, X, Y, Z, StateFn, AerPauliExpectation\n",
    "import numpy as np\n",
    "import matplotlib as plt\n",
    "%matplotlib inline"
   ]
  },
  {
   "cell_type": "markdown",
   "metadata": {},
   "source": [
    "題材は[QHACK2021で使用された問題](https://github.com/XanaduAI/QHack2021/blob/main/QML_Challenges/quantum_gradients_100_template/problem.pdf)を使用します。\n",
    "\n",
    "入力パラメータ  \n",
    "```\n",
    "[1, 0.5, -0.765, 0.1, 0, -0.654]\n",
    "```\n",
    "\n",
    "期待される出力  \n",
    "```\n",
    "[0, 0, 0, 0, -0.4553474723, 0]\n",
    "```"
   ]
  },
  {
   "cell_type": "code",
   "execution_count": 2,
   "metadata": {},
   "outputs": [],
   "source": [
    "input_param=[1, 0.5, -0.765, 0.1, 0, -0.654]\n",
    "exp_output=[0, 0, 0, 0, -0.4553474723, 0]"
   ]
  },
  {
   "cell_type": "markdown",
   "metadata": {},
   "source": [
    "## 1から実装する"
   ]
  },
  {
   "cell_type": "markdown",
   "metadata": {},
   "source": [
    "### サンプル量子回路の準備"
   ]
  },
  {
   "cell_type": "code",
   "execution_count": 3,
   "metadata": {},
   "outputs": [
    {
     "data": {
      "text/html": [
       "<pre style=\"word-wrap: normal;white-space: pre;background: #fff0;line-height: 1.1;font-family: &quot;Courier New&quot;,Courier,monospace\">     ┌──────────────────┐          ┌───┐┌──────────────────┐          ┌───┐\n",
       "q_0: ┤ Rx(Parameter[0]) ├──■───────┤ X ├┤ Rx(Parameter[3]) ├──■───────┤ X ├\n",
       "     ├──────────────────┤┌─┴─┐     └─┬─┘├──────────────────┤┌─┴─┐     └─┬─┘\n",
       "q_1: ┤ Ry(Parameter[1]) ├┤ X ├──■────┼──┤ Ry(Parameter[4]) ├┤ X ├──■────┼──\n",
       "     ├──────────────────┤└───┘┌─┴─┐  │  ├──────────────────┤└───┘┌─┴─┐  │  \n",
       "q_2: ┤ Rz(Parameter[2]) ├─────┤ X ├──■──┤ Rz(Parameter[5]) ├─────┤ X ├──■──\n",
       "     └──────────────────┘     └───┘     └──────────────────┘     └───┘     </pre>"
      ],
      "text/plain": [
       "     ┌──────────────────┐          ┌───┐┌──────────────────┐          ┌───┐\n",
       "q_0: ┤ Rx(Parameter[0]) ├──■───────┤ X ├┤ Rx(Parameter[3]) ├──■───────┤ X ├\n",
       "     ├──────────────────┤┌─┴─┐     └─┬─┘├──────────────────┤┌─┴─┐     └─┬─┘\n",
       "q_1: ┤ Ry(Parameter[1]) ├┤ X ├──■────┼──┤ Ry(Parameter[4]) ├┤ X ├──■────┼──\n",
       "     ├──────────────────┤└───┘┌─┴─┐  │  ├──────────────────┤└───┘┌─┴─┐  │  \n",
       "q_2: ┤ Rz(Parameter[2]) ├─────┤ X ├──■──┤ Rz(Parameter[5]) ├─────┤ X ├──■──\n",
       "     └──────────────────┘     └───┘     └──────────────────┘     └───┘     "
      ]
     },
     "execution_count": 3,
     "metadata": {},
     "output_type": "execute_result"
    }
   ],
   "source": [
    "n = 3\n",
    "qc = QuantumCircuit(n)\n",
    "\n",
    "param_list = ParameterVector('Parameter', 2*n)\n",
    "\n",
    "for i in range(len(param_list)//n):\n",
    "    qc.rx(param_list[3*i], 0)\n",
    "    qc.ry(param_list[3*i+1], 1)\n",
    "    qc.rz(param_list[3*i+2], 2)\n",
    "\n",
    "    qc.cnot(0, 1)\n",
    "    qc.cnot(1, 2)\n",
    "    qc.cnot(2, 0)\n",
    "\n",
    "qc.draw()"
   ]
  },
  {
   "cell_type": "markdown",
   "metadata": {},
   "source": [
    "### ハミルトニアンの定義"
   ]
  },
  {
   "cell_type": "code",
   "execution_count": 4,
   "metadata": {},
   "outputs": [],
   "source": [
    "hamiltonian = Z ^ I ^ Y"
   ]
  },
  {
   "cell_type": "markdown",
   "metadata": {},
   "source": [
    "### ハミルトニアンの期待値の計算"
   ]
  },
  {
   "cell_type": "code",
   "execution_count": 5,
   "metadata": {},
   "outputs": [],
   "source": [
    "expectation = StateFn(hamiltonian, is_measurement=True) @ StateFn(qc)\n",
    "pauli_basis = AerPauliExpectation().convert(expectation)"
   ]
  },
  {
   "cell_type": "code",
   "execution_count": 6,
   "metadata": {},
   "outputs": [],
   "source": [
    "from qiskit import Aer\n",
    "from qiskit.utils import QuantumInstance\n",
    "from qiskit.opflow import CircuitSampler\n",
    "\n",
    "quantum_instance = QuantumInstance(Aer.get_backend('qasm_simulator'),\n",
    "                                   # we'll set a seed for reproducibility\n",
    "                                   shots = 32768, seed_simulator = 2718,\n",
    "                                   seed_transpiler = 2718)\n",
    "sampler = CircuitSampler(quantum_instance)\n",
    "\n",
    "def evaluate_expectation(params):\n",
    "    value_dict = dict(zip(qc.parameters, params))\n",
    "    result = sampler.convert(pauli_basis, params=value_dict).eval()\n",
    "    return np.real(result)"
   ]
  },
  {
   "cell_type": "code",
   "execution_count": 7,
   "metadata": {},
   "outputs": [],
   "source": [
    "def calc_gradient(params):\n",
    "    gradient = np.zeros_like(params)\n",
    "    for i in range(len(params)):\n",
    "        shifted = params.copy()\n",
    "        shifted[i] += np.pi/2\n",
    "        forward = evaluate_expectation(shifted)\n",
    "\n",
    "        shifted[i] -= np.pi\n",
    "        backward = evaluate_expectation(shifted)\n",
    "\n",
    "        gradient[i] = 0.5 * (forward - backward)\n",
    "    return np.round(gradient, 10)"
   ]
  },
  {
   "cell_type": "code",
   "execution_count": 8,
   "metadata": {},
   "outputs": [
    {
     "data": {
      "text/plain": [
       "array([ 0.        ,  0.        ,  0.        ,  0.        , -0.45534747,\n",
       "        0.        ])"
      ]
     },
     "execution_count": 8,
     "metadata": {},
     "output_type": "execute_result"
    }
   ],
   "source": [
    "calc_gradient(input_param)"
   ]
  },
  {
   "cell_type": "markdown",
   "metadata": {},
   "source": [
    "## Gradient Frameworkを利用する\n"
   ]
  },
  {
   "cell_type": "code",
   "execution_count": 9,
   "metadata": {},
   "outputs": [],
   "source": [
    "from qiskit.opflow import Gradient\n",
    "\n",
    "def calc_gradient_with_framework(params):\n",
    "    state_grad = Gradient(grad_method=\"param_shift\").convert(operator=expectation)\n",
    "    value_dict = dict(zip(qc.parameters, params))\n",
    "    result = state_grad.assign_parameters(value_dict).eval()\n",
    "    return np.round(np.array(result).real, 10)\n"
   ]
  },
  {
   "cell_type": "code",
   "execution_count": 10,
   "metadata": {},
   "outputs": [
    {
     "data": {
      "text/plain": [
       "array([ 0.        ,  0.        ,  0.        ,  0.        , -0.45534747,\n",
       "        0.        ])"
      ]
     },
     "execution_count": 10,
     "metadata": {},
     "output_type": "execute_result"
    }
   ],
   "source": [
    "calc_gradient_with_framework(input_param)"
   ]
  },
  {
   "cell_type": "markdown",
   "metadata": {},
   "source": [
    "## バージョン情報"
   ]
  },
  {
   "cell_type": "code",
   "execution_count": 11,
   "metadata": {},
   "outputs": [
    {
     "data": {
      "text/html": [
       "<h3>Version Information</h3><table><tr><th>Qiskit Software</th><th>Version</th></tr><tr><td><code>qiskit-terra</code></td><td>0.20.0</td></tr><tr><td><code>qiskit-aer</code></td><td>0.10.4</td></tr><tr><th>System information</th></tr><tr><td>Python version</td><td>3.10.4</td></tr><tr><td>Python compiler</td><td>Clang 12.0.0 </td></tr><tr><td>Python build</td><td>main, Mar 31 2022 03:38:35</td></tr><tr><td>OS</td><td>Darwin</td></tr><tr><td>CPUs</td><td>2</td></tr><tr><td>Memory (Gb)</td><td>16.0</td></tr><tr><td colspan='2'>Sun May 29 20:22:53 2022 JST</td></tr></table>"
      ],
      "text/plain": [
       "<IPython.core.display.HTML object>"
      ]
     },
     "metadata": {},
     "output_type": "display_data"
    }
   ],
   "source": [
    "import qiskit.tools.jupyter\n",
    "%qiskit_version_table"
   ]
  },
  {
   "cell_type": "code",
   "execution_count": null,
   "metadata": {},
   "outputs": [],
   "source": []
  }
 ],
 "metadata": {
  "interpreter": {
   "hash": "d202dba61e206f1fbca2ce83f86f7964f5a02d535618c4d10368a65473055382"
  },
  "kernelspec": {
   "display_name": "Python 3.10.4 ('QiskitDevenv')",
   "language": "python",
   "name": "python3"
  },
  "language_info": {
   "codemirror_mode": {
    "name": "ipython",
    "version": 3
   },
   "file_extension": ".py",
   "mimetype": "text/x-python",
   "name": "python",
   "nbconvert_exporter": "python",
   "pygments_lexer": "ipython3",
   "version": "3.10.4"
  },
  "orig_nbformat": 2
 },
 "nbformat": 4,
 "nbformat_minor": 2
}
