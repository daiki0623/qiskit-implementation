{
 "metadata": {
  "language_info": {
   "codemirror_mode": {
    "name": "ipython",
    "version": 3
   },
   "file_extension": ".py",
   "mimetype": "text/x-python",
   "name": "python",
   "nbconvert_exporter": "python",
   "pygments_lexer": "ipython3",
   "version": "3.7.9"
  },
  "orig_nbformat": 2,
  "kernelspec": {
   "name": "python379jvsc74a57bd0f43254210db8f7200d20b24cc2b1fb5d845a28129d8db60a061339008c9e9ffb",
   "display_name": "Python 3.7.9 64-bit ('base': conda)"
  }
 },
 "nbformat": 4,
 "nbformat_minor": 2,
 "cells": [
  {
   "source": [
    "# Parameter-Shift法をQiskitで実装する"
   ],
   "cell_type": "markdown",
   "metadata": {}
  },
  {
   "cell_type": "code",
   "execution_count": 1,
   "metadata": {},
   "outputs": [
    {
     "output_type": "stream",
     "name": "stderr",
     "text": [
      "C:\\Users\\DaikiMurata\\anaconda3\\lib\\site-packages\\qiskit\\aqua\\operators\\operator_globals.py:48: DeprecationWarning: `from_label` is deprecated and will be removed no earlier than 3 months after the release date. Use Pauli(label) instead.\n  X = make_immutable(PrimitiveOp(Pauli.from_label('X')))\n"
     ]
    }
   ],
   "source": [
    "from qiskit import Aer\n",
    "from qiskit.circuit import QuantumCircuit, ParameterVector\n",
    "from qiskit.aqua import QuantumInstance\n",
    "from qiskit.aqua.operators import I,X, Y, Z, StateFn, CircuitStateFn\n",
    "from qiskit.aqua.operators.expectations import PauliExpectation, AerPauliExpectation\n",
    "from qiskit.aqua.operators.converters import CircuitSampler\n",
    "from qiskit.aqua.operators.gradients import Gradient\n",
    "import numpy as np\n",
    "import matplotlib as plt\n",
    "%matplotlib inline"
   ]
  },
  {
   "source": [
    "題材は[QHACK2021で使用された問題](https://github.com/XanaduAI/QHack2021/blob/main/QML_Challenges/quantum_gradients_100_template/problem.pdf)を使用します。\n",
    "\n",
    "入力パラメータ  \n",
    "```\n",
    "[1, 0.5, -0.765, 0.1, 0, -0.654]\n",
    "```\n",
    "\n",
    "期待される出力  \n",
    "```\n",
    "[0, 0, 0, 0, -0.4553474723, 0]\n",
    "```"
   ],
   "cell_type": "markdown",
   "metadata": {}
  },
  {
   "source": [
    "## モジュールを利用せずにゼロから実装する"
   ],
   "cell_type": "markdown",
   "metadata": {}
  },
  {
   "cell_type": "code",
   "execution_count": 2,
   "metadata": {},
   "outputs": [],
   "source": [
    "# バックエンドや量子インスタンスを定義\n",
    "backend = Aer.get_backend('qasm_simulator') \n",
    "q_instance = QuantumInstance(backend, shots=1024)"
   ]
  },
  {
   "source": [
    "ハミルトニアンの期待値を求める関数を定義します。"
   ],
   "cell_type": "markdown",
   "metadata": {}
  },
  {
   "cell_type": "code",
   "execution_count": 3,
   "metadata": {},
   "outputs": [],
   "source": [
    "def exp_val(params):\n",
    "    n = 3\n",
    "    qc = QuantumCircuit(n)\n",
    "    param_list = ParameterVector('Parameter', 2*n)\n",
    "\n",
    "    for i in range(len(param_list)//n):\n",
    "        qc.rx(param_list[3*i], 0)\n",
    "        qc.ry(param_list[3*i+1], 1)\n",
    "        qc.rz(param_list[3*i+2], 2)\n",
    "\n",
    "        qc.cnot(0, 1)\n",
    "        qc.cnot(1, 2)\n",
    "        qc.cnot(2, 0)\n",
    "\n",
    "    param_dict = dict(zip(param_list.params, params))\n",
    "    qc.assign_parameters(param_dict, inplace=True)\n",
    "\n",
    "    op = Z ^ I ^ Y # ハミルトニアンを定義\n",
    "    psi = CircuitStateFn(qc) # 状態ベクトルを定義\n",
    "    measurable_expression = StateFn(op, is_measurement=True).compose(psi) \n",
    "\n",
    "    # 期待値を計算\n",
    "    expectation = AerPauliExpectation().convert(measurable_expression)\n",
    "\n",
    "    sampler = CircuitSampler(q_instance).convert(expectation) \n",
    "    return sampler.eval().real"
   ]
  },
  {
   "cell_type": "code",
   "execution_count": 4,
   "metadata": {},
   "outputs": [],
   "source": [
    "params = [1, 0.5, -0.765, 0.1, 0, -0.654]"
   ]
  },
  {
   "cell_type": "code",
   "execution_count": 5,
   "metadata": {},
   "outputs": [
    {
     "output_type": "stream",
     "name": "stderr",
     "text": [
      "C:\\Users\\DaikiMurata\\anaconda3\\lib\\site-packages\\qiskit\\quantum_info\\operators\\symplectic\\pauli.py:185: DeprecationWarning: Initializing Pauli from `Pauli(z=z, x=x)` kwargs is deprecated as of version 0.17.0 and will be removed no earlier than 3 months after the release date. Use tuple initialization `Pauli((z, x))` instead.\n  base_z, base_x, base_phase = self._from_array_deprecated(z, x)\nC:\\Users\\DaikiMurata\\anaconda3\\lib\\site-packages\\qiskit\\aqua\\operators\\primitive_ops\\pauli_op.py:93: DeprecationWarning: `kron` is deprecated and will be removed no earlier than 3 months after the release date of Qiskit Terra 0.17.0. Use `expand` instead, but note this does not change the operator in-place.\n  return PauliOp(op_copy.kron(self.primitive), coeff=self.coeff * other.coeff)\n"
     ]
    }
   ],
   "source": [
    "gradient = np.zeros_like(params)\n",
    "for i in range(len(params)):\n",
    "    shifted = params.copy()\n",
    "    shifted[i] += np.pi/2\n",
    "    forward = exp_val(shifted)\n",
    "\n",
    "    shifted[i] -= np.pi\n",
    "    backward = exp_val(shifted)\n",
    "\n",
    "    gradient[i] = 0.5 * (forward - backward)"
   ]
  },
  {
   "cell_type": "code",
   "execution_count": 6,
   "metadata": {},
   "outputs": [
    {
     "output_type": "stream",
     "name": "stdout",
     "text": [
      "[ 0.          0.          0.          0.         -0.45534747  0.        ]\n"
     ]
    }
   ],
   "source": [
    "print(np.round(gradient, 10))"
   ]
  },
  {
   "source": [
    "## Using Qiskit Gradient Framework\n"
   ],
   "cell_type": "markdown",
   "metadata": {}
  },
  {
   "cell_type": "code",
   "execution_count": 7,
   "metadata": {},
   "outputs": [],
   "source": [
    "params = [1, 0.5, -0.765, 0.1, 0, -0.654]"
   ]
  },
  {
   "cell_type": "code",
   "execution_count": 8,
   "metadata": {},
   "outputs": [],
   "source": [
    "def parameter_shift_gradient(params):\n",
    "    n = 3\n",
    "    qc = QuantumCircuit(n)\n",
    "    param_list = ParameterVector('param_list', 2*n)\n",
    "\n",
    "    for i in range(len(param_list)//n):\n",
    "        qc.rx(param_list[3*i], 0)\n",
    "        qc.ry(param_list[3*i+1], 1)\n",
    "        qc.rz(param_list[3*i+2], 2)\n",
    "\n",
    "        qc.cnot(0, 1)\n",
    "        qc.cnot(1, 2)\n",
    "        qc.cnot(2, 0)\n",
    "\n",
    "    param_dict = dict(zip(param_list.params, params))\n",
    "\n",
    "    obs = Z ^ I ^ Y\n",
    "    psi = CircuitStateFn(qc)\n",
    "    operator = ~StateFn(obs) @ psi\n",
    "\n",
    "    state_grad = Gradient(grad_method=\"param_shift\").convert(operator=operator, params=param_list)\n",
    "    result = state_grad.assign_parameters(param_dict).eval()\n",
    "    return np.array(result).real"
   ]
  },
  {
   "cell_type": "code",
   "execution_count": 9,
   "metadata": {},
   "outputs": [
    {
     "output_type": "stream",
     "name": "stdout",
     "text": [
      "[ 0.          0.          0.          0.         -0.45534747  0.        ]\n"
     ]
    }
   ],
   "source": [
    "print(np.round(parameter_shift_gradient(params), 10))"
   ]
  },
  {
   "source": [
    "## バージョン情報"
   ],
   "cell_type": "markdown",
   "metadata": {}
  },
  {
   "cell_type": "code",
   "execution_count": 10,
   "metadata": {},
   "outputs": [
    {
     "output_type": "display_data",
     "data": {
      "text/plain": "<IPython.core.display.HTML object>",
      "text/html": "<h3>Version Information</h3><table><tr><th>Qiskit Software</th><th>Version</th></tr><tr><td>Qiskit</td><td>0.25.3</td></tr><tr><td>Terra</td><td>0.17.1</td></tr><tr><td>Aer</td><td>0.7.2</td></tr><tr><td>Ignis</td><td>0.5.1</td></tr><tr><td>Aqua</td><td>0.8.1</td></tr><tr><td>IBM Q Provider</td><td>0.11.1</td></tr><tr><th>System information</th></tr><tr><td>Python</td><td>3.7.9 (default, Aug 31 2020, 17:10:11) [MSC v.1916 64 bit (AMD64)]</td></tr><tr><td>OS</td><td>Windows</td></tr><tr><td>CPUs</td><td>4</td></tr><tr><td>Memory (Gb)</td><td>29.88125991821289</td></tr><tr><td colspan='2'>Wed May 19 21:17:17 2021  (W)</td></tr></table>"
     },
     "metadata": {}
    }
   ],
   "source": [
    "import qiskit.tools.jupyter\n",
    "%qiskit_version_table"
   ]
  }
 ]
}