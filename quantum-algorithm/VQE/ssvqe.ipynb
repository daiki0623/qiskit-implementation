{
 "cells": [
  {
   "cell_type": "code",
   "execution_count": 1,
   "metadata": {},
   "outputs": [],
   "source": [
    "from scipy.optimize import minimize\n",
    "\n",
    "from qiskit import *\n",
    "from qiskit.aqua import QuantumInstance\n",
    "from qiskit.aqua.operators.state_fns import StateFn, CircuitStateFn\n",
    "from qiskit.aqua.operators.expectations import PauliExpectation, AerPauliExpectation\n",
    "from qiskit.aqua.operators.converters import CircuitSampler\n",
    "\n",
    "import numpy as np\n",
    "import matplotlib.pyplot as plt"
   ]
  },
  {
   "cell_type": "markdown",
   "metadata": {},
   "source": [
    "# ハミルトニアンを定義(by OpenFermion)"
   ]
  },
  {
   "cell_type": "code",
   "execution_count": 15,
   "metadata": {},
   "outputs": [
    {
     "name": "stdout",
     "output_type": "stream",
     "text": [
      "Requirement already satisfied: qulacs in /Users/muratadaiki/opt/anaconda3/lib/python3.7/site-packages (0.2.0)\n",
      "Requirement already satisfied: pyscf in /Users/muratadaiki/opt/anaconda3/lib/python3.7/site-packages (1.7.3)\n",
      "Requirement already satisfied: openfermion in /Users/muratadaiki/opt/anaconda3/lib/python3.7/site-packages (0.11.0)\n",
      "Requirement already satisfied: openfermionpyscf in /Users/muratadaiki/opt/anaconda3/lib/python3.7/site-packages (0.4)\n",
      "Requirement already satisfied: h5py>=2.8 in /Users/muratadaiki/opt/anaconda3/lib/python3.7/site-packages (from openfermion) (2.10.0)\n",
      "Requirement already satisfied: requests~=2.18 in /Users/muratadaiki/opt/anaconda3/lib/python3.7/site-packages (from openfermion) (2.23.0)\n",
      "Requirement already satisfied: networkx in /Users/muratadaiki/opt/anaconda3/lib/python3.7/site-packages (from openfermion) (2.4)\n",
      "Requirement already satisfied: pubchempy in /Users/muratadaiki/opt/anaconda3/lib/python3.7/site-packages (from openfermion) (1.0.4)\n",
      "Requirement already satisfied: scipy>=1.1.0 in /Users/muratadaiki/opt/anaconda3/lib/python3.7/site-packages (from openfermion) (1.4.1)\n",
      "Requirement already satisfied: numpy>=1.11.0 in /Users/muratadaiki/opt/anaconda3/lib/python3.7/site-packages (from openfermion) (1.18.1)\n",
      "Requirement already satisfied: six in /Users/muratadaiki/opt/anaconda3/lib/python3.7/site-packages (from h5py>=2.8->openfermion) (1.14.0)\n",
      "Requirement already satisfied: urllib3!=1.25.0,!=1.25.1,<1.26,>=1.21.1 in /Users/muratadaiki/opt/anaconda3/lib/python3.7/site-packages (from requests~=2.18->openfermion) (1.25.8)\n",
      "Requirement already satisfied: chardet<4,>=3.0.2 in /Users/muratadaiki/opt/anaconda3/lib/python3.7/site-packages (from requests~=2.18->openfermion) (3.0.4)\n",
      "Requirement already satisfied: certifi>=2017.4.17 in /Users/muratadaiki/opt/anaconda3/lib/python3.7/site-packages (from requests~=2.18->openfermion) (2019.11.28)\n",
      "Requirement already satisfied: idna<3,>=2.5 in /Users/muratadaiki/opt/anaconda3/lib/python3.7/site-packages (from requests~=2.18->openfermion) (2.9)\n",
      "Requirement already satisfied: pytest in /Users/muratadaiki/opt/anaconda3/lib/python3.7/site-packages (from openfermionpyscf) (5.4.1)\n",
      "Requirement already satisfied: decorator>=4.3.0 in /Users/muratadaiki/opt/anaconda3/lib/python3.7/site-packages (from networkx->openfermion) (4.4.2)\n",
      "Requirement already satisfied: py>=1.5.0 in /Users/muratadaiki/opt/anaconda3/lib/python3.7/site-packages (from pytest->openfermionpyscf) (1.8.1)\n",
      "Requirement already satisfied: packaging in /Users/muratadaiki/opt/anaconda3/lib/python3.7/site-packages (from pytest->openfermionpyscf) (20.3)\n",
      "Requirement already satisfied: attrs>=17.4.0 in /Users/muratadaiki/opt/anaconda3/lib/python3.7/site-packages (from pytest->openfermionpyscf) (19.3.0)\n",
      "Requirement already satisfied: more-itertools>=4.0.0 in /Users/muratadaiki/opt/anaconda3/lib/python3.7/site-packages (from pytest->openfermionpyscf) (8.2.0)\n",
      "Requirement already satisfied: pluggy<1.0,>=0.12 in /Users/muratadaiki/opt/anaconda3/lib/python3.7/site-packages (from pytest->openfermionpyscf) (0.13.1)\n",
      "Requirement already satisfied: wcwidth in /Users/muratadaiki/opt/anaconda3/lib/python3.7/site-packages (from pytest->openfermionpyscf) (0.1.8)\n",
      "Requirement already satisfied: importlib-metadata>=0.12 in /Users/muratadaiki/opt/anaconda3/lib/python3.7/site-packages (from pytest->openfermionpyscf) (1.5.0)\n",
      "Requirement already satisfied: zipp>=0.5 in /Users/muratadaiki/opt/anaconda3/lib/python3.7/site-packages (from importlib-metadata>=0.12->pytest->openfermionpyscf) (2.2.0)\n",
      "Requirement already satisfied: pyparsing>=2.0.2 in /Users/muratadaiki/opt/anaconda3/lib/python3.7/site-packages (from packaging->pytest->openfermionpyscf) (2.4.6)\n"
     ]
    }
   ],
   "source": [
    "# !pip install qulacs pyscf openfermion openfermionpyscf"
   ]
  },
  {
   "cell_type": "code",
   "execution_count": 13,
   "metadata": {},
   "outputs": [],
   "source": [
    "# from openfermion.transforms import get_fermion_operator, jordan_wigner\n",
    "# from openfermion.transforms import get_sparse_operator\n",
    "# from openfermion.hamiltonians import MolecularData\n",
    "# from openfermionpyscf import run_pyscf\n",
    "# from pyscf import fci"
   ]
  },
  {
   "cell_type": "code",
   "execution_count": 14,
   "metadata": {},
   "outputs": [],
   "source": [
    "# #define constants\n",
    "# # 分子軌道を表現するための基底関数(Slator Type Orbital - 3 gaussian)\n",
    "# basis = \"sto-3g\"\n",
    "# # スピン多重度\n",
    "# multiplicity = 1\n",
    "# # 全電荷\n",
    "# charge = 0\n",
    "# # 原子核配置\n",
    "# distance = 0.977\n",
    "# geometry = [[\"H\", [0, 0, 0]], [\"H\", [0, 0, distance]]]\n",
    "# # 計算結果の保存場所\n",
    "# description = \"tmp\"\n",
    "# molecule = MolecularData(geometry, basis, multiplicity, charge, description)\n",
    "# molecule = run_pyscf(molecule, run_scf=1, run_fci=1)\n",
    "\n",
    "# n_qubit = molecule.n_qubits\n",
    "# n_electron = molecule.n_electrons\n",
    "# # get_molecular_hamiltonianで第二量子化形式のハミルトニアンを計算\n",
    "# fermionic_hamiltonian = get_fermion_operator(\n",
    "#     molecule.get_molecular_hamiltonian())\n",
    "# # Jordan-Wigner変換によりハミルトニアンをパウリ行列のテンソル積形式に変換\n",
    "# jw_hamiltonian = jordan_wigner(fermionic_hamiltonian)\n",
    "\n",
    "# # 励起状態も考慮するため励起状態の厳密解を求める\n",
    "# hamiltonian_matrix = get_sparse_operator(jw_hamiltonian)\n",
    "# from scipy.sparse.linalg import eigsh\n",
    "# eigval, eigvec = eigsh(hamiltonian_matrix, k=2, which=\"SA\")"
   ]
  },
  {
   "cell_type": "code",
   "execution_count": 18,
   "metadata": {},
   "outputs": [
    {
     "name": "stdout",
     "output_type": "stream",
     "text": [
      "(-0.31349601534094224+0j) [] +\n",
      "(-0.048834726365406485+0j) [X0 X1 Y2 Y3] +\n",
      "(0.048834726365406485+0j) [X0 Y1 Y2 X3] +\n",
      "(0.048834726365406485+0j) [Y0 X1 X2 Y3] +\n",
      "(-0.048834726365406485+0j) [Y0 Y1 X2 X3] +\n",
      "(0.13978238294522735+0j) [Z0] +\n",
      "(0.1576263055158343+0j) [Z0 Z1] +\n",
      "(0.10745382591353006+0j) [Z0 Z2] +\n",
      "(0.15628855227893657+0j) [Z0 Z3] +\n",
      "(0.13978238294522735+0j) [Z1] +\n",
      "(0.15628855227893657+0j) [Z1 Z2] +\n",
      "(0.10745382591353006+0j) [Z1 Z3] +\n",
      "(-0.13686895093682833+0j) [Z2] +\n",
      "(0.16419290100986608+0j) [Z2 Z3] +\n",
      "(-0.13686895093682833+0j) [Z3]\n"
     ]
    }
   ],
   "source": [
    "# print(jw_hamiltonian)"
   ]
  },
  {
   "cell_type": "markdown",
   "metadata": {},
   "source": [
    "# ハミルトニアンを定義(by Qiskit Chemistry)"
   ]
  },
  {
   "cell_type": "code",
   "execution_count": 2,
   "metadata": {},
   "outputs": [
    {
     "name": "stdout",
     "output_type": "stream",
     "text": [
      "SummedOp([\n",
      "  -0.8551308269274315 * IIII,\n",
      "  0.13978238294522738 * IIIZ,\n",
      "  -0.13686895093682827 * IIZI,\n",
      "  0.13978238294522735 * IZII,\n",
      "  -0.13686895093682835 * ZIII,\n",
      "  0.10745382591353006 * IIZZ,\n",
      "  0.15762630551583431 * IZIZ,\n",
      "  0.04883472636540648 * XXYY,\n",
      "  0.04883472636540648 * YYYY,\n",
      "  0.04883472636540648 * XXXX,\n",
      "  0.04883472636540648 * YYXX,\n",
      "  0.1562885522789365 * ZIIZ,\n",
      "  0.1562885522789365 * IZZI,\n",
      "  0.16419290100986614 * ZIZI,\n",
      "  0.10745382591353006 * ZZII\n",
      "])\n"
     ]
    }
   ],
   "source": [
    "from qiskit.chemistry.drivers import PySCFDriver, UnitsType, Molecule\n",
    "from qiskit.chemistry.transformations import FermionicTransformation,FermionicTransformationType, FermionicQubitMappingType\n",
    "\n",
    "molecule = Molecule(geometry=[['H', [0., 0., 0.]], ['H', [0., 0., 0.977]]], charge=0, multiplicity=1)\n",
    "driver = PySCFDriver(molecule = molecule, unit=UnitsType.ANGSTROM, basis='sto3g')\n",
    "transformation = FermionicTransformation(\n",
    "    transformation=FermionicTransformationType.FULL,\n",
    "    qubit_mapping=FermionicQubitMappingType.JORDAN_WIGNER,\n",
    "    two_qubit_reduction=False,\n",
    "    freeze_core=False)\n",
    "qubit_op, _ = transformation.transform(driver)\n",
    "print(qubit_op)"
   ]
  },
  {
   "cell_type": "code",
   "execution_count": 4,
   "metadata": {},
   "outputs": [],
   "source": [
    "# ハミルトニアンをOpenFermionから求めたものを使ってみる\n",
    "from qiskit.aqua.operators.list_ops import SummedOp\n",
    "from qiskit.aqua.operators import I,X,Y,Z\n",
    "qubit_op = SummedOp([\n",
    "  -0.313496015340942 * I^I^I^I,\n",
    "  -0.136868950936828 * I^I^I^Z,\n",
    "  -0.136868950936828* I^I^Z^I,\n",
    "  0.139782382945227 * I^Z^I^I,\n",
    "  0.139782382945227 * Z^I^I^I,\n",
    "  0.164192901009866 * I^I^Z^Z,\n",
    "  0.10745382591353 * I^Z^I^Z,\n",
    "  -0.0488347263654064 * X^X^Y^Y,\n",
    "  0.048834726365406485 * X^Y^Y^X,\n",
    "  0.048834726365406485 * Y^X^X^Y,\n",
    "  -0.0488347263654064 * Y^Y^X^X,\n",
    "  0.1562885522789365 * Z^I^I^Z,\n",
    "  0.1562885522789365 * I^Z^Z^I,\n",
    "  0.10745382591353 * Z^I^Z^I,\n",
    "  0.157626305515834 * Z^Z^I^I\n",
    "])"
   ]
  },
  {
   "cell_type": "markdown",
   "metadata": {},
   "source": [
    "# 厳密解を計算(numpy)"
   ]
  },
  {
   "cell_type": "code",
   "execution_count": 5,
   "metadata": {},
   "outputs": [
    {
     "name": "stdout",
     "output_type": "stream",
     "text": [
      "=== GROUND STATE ENERGY ===\n",
      " \n",
      "* Electronic ground state energy (Hartree): -1.647568163891\n",
      "  - computed part:      -1.647568163891\n",
      "  - frozen energy part: 0.0\n",
      "  - particle hole part: 0.0\n",
      "~ Nuclear repulsion energy (Hartree): 0.541634811586\n",
      "> Total ground state energy (Hartree): -1.105933352305\n",
      " \n",
      "=== EXCITED STATE ENERGIES ===\n",
      " \n",
      "  1: \n",
      "* Electronic excited state energy (Hartree): -0.883941675261\n",
      "> Total excited state energy (Hartree): -0.342306863674\n",
      "  2: \n",
      "* Electronic excited state energy (Hartree): -0.474024589682\n",
      "> Total excited state energy (Hartree): 0.067610221904\n",
      " \n",
      "=== MEASURED OBSERVABLES ===\n",
      " \n",
      "  0:  # Particles: 2.000 S: 0.000 S^2: 0.000 M: 0.000\n",
      "  1:  # Particles: 2.000 S: 0.000 S^2: 0.000 M: 0.000\n",
      "  2:  # Particles: 2.000 S: 0.000 S^2: 0.000 M: 0.000\n",
      " \n",
      "=== DIPOLE MOMENTS ===\n",
      " \n",
      "~ Nuclear dipole moment (a.u.): [0.0  0.0  1.84626242]\n",
      " \n",
      "  0: \n",
      "  * Electronic dipole moment (a.u.): [0.0  0.0  1.84626242]\n",
      "    - computed part:      [0.0  0.0  1.84626242]\n",
      "    - frozen energy part: [0.0  0.0  0.0]\n",
      "    - particle hole part: [0.0  0.0  0.0]\n",
      "  > Dipole moment (a.u.): [0.0  0.0  0.0]  Total: 0.\n",
      "                 (debye): [0.0  0.0  -0.00000001]  Total: 0.00000001\n",
      " \n",
      "  1: \n",
      "  * Electronic dipole moment (a.u.): [0.0  0.0  1.84626242]\n",
      "    - computed part:      [0.0  0.0  1.84626242]\n",
      "    - frozen energy part: [0.0  0.0  0.0]\n",
      "    - particle hole part: [0.0  0.0  0.0]\n",
      "  > Dipole moment (a.u.): [0.0  0.0  0.0]  Total: 0.\n",
      "                 (debye): [0.0  0.0  -0.00000001]  Total: 0.00000001\n",
      " \n",
      "  2: \n",
      "  * Electronic dipole moment (a.u.): [0.0  0.0  1.84626242]\n",
      "    - computed part:      [0.0  0.0  1.84626242]\n",
      "    - frozen energy part: [0.0  0.0  0.0]\n",
      "    - particle hole part: [0.0  0.0  0.0]\n",
      "  > Dipole moment (a.u.): [0.0  0.0  0.0]  Total: 0.\n",
      "                 (debye): [0.0  0.0  -0.00000001]  Total: 0.00000001\n",
      " \n"
     ]
    }
   ],
   "source": [
    "from qiskit.chemistry.algorithms import NumPyEigensolverFactory\n",
    "from qiskit.chemistry.algorithms.excited_states_solvers import ExcitedStatesEigensolver\n",
    "\n",
    "numpy_solver = NumPyEigensolverFactory(use_default_filter_criterion=True)\n",
    "numpy_excited_states_calculation = ExcitedStatesEigensolver(transformation, numpy_solver)\n",
    "numpy_results = numpy_excited_states_calculation.solve(driver)\n",
    "print(numpy_results)"
   ]
  },
  {
   "cell_type": "markdown",
   "metadata": {},
   "source": [
    "One can see from these results that one state is missing from the NumPy results. The reason for this is because the spin is also used as a filter and only singlet states are shown. In the following we use a custom filter function to check consistently our results and only filter out states with incorrect number of particle (in this case the number of particle is 2)."
   ]
  },
  {
   "cell_type": "code",
   "execution_count": 6,
   "metadata": {},
   "outputs": [
    {
     "name": "stdout",
     "output_type": "stream",
     "text": [
      "=== GROUND STATE ENERGY ===\n",
      " \n",
      "* Electronic ground state energy (Hartree): -1.647568163891\n",
      "  - computed part:      -1.647568163891\n",
      "  - frozen energy part: 0.0\n",
      "  - particle hole part: 0.0\n",
      "~ Nuclear repulsion energy (Hartree): 0.541634811586\n",
      "> Total ground state energy (Hartree): -1.105933352305\n",
      " \n",
      "=== EXCITED STATE ENERGIES ===\n",
      " \n",
      "  1: \n",
      "* Electronic excited state energy (Hartree): -1.274619486184\n",
      "> Total excited state energy (Hartree): -0.732984674597\n",
      "  2: \n",
      "* Electronic excited state energy (Hartree): -1.274619486184\n",
      "> Total excited state energy (Hartree): -0.732984674597\n",
      "  3: \n",
      "* Electronic excited state energy (Hartree): -1.274619486184\n",
      "> Total excited state energy (Hartree): -0.732984674597\n",
      "  4: \n",
      "* Electronic excited state energy (Hartree): -0.883941675261\n",
      "> Total excited state energy (Hartree): -0.342306863674\n",
      "  5: \n",
      "* Electronic excited state energy (Hartree): -0.474024589682\n",
      "> Total excited state energy (Hartree): 0.067610221904\n",
      " \n",
      "=== MEASURED OBSERVABLES ===\n",
      " \n",
      "  0:  # Particles: 2.000 S: 0.000 S^2: 0.000 M: 0.000\n",
      "  1:  # Particles: 2.000 S: 1.000 S^2: 2.000 M: 0.000\n",
      "  2:  # Particles: 2.000 S: 1.000 S^2: 2.000 M: 1.000\n",
      "  3:  # Particles: 2.000 S: 1.000 S^2: 2.000 M: -1.000\n",
      "  4:  # Particles: 2.000 S: 0.000 S^2: 0.000 M: 0.000\n",
      "  5:  # Particles: 2.000 S: 0.000 S^2: 0.000 M: 0.000\n",
      " \n",
      "=== DIPOLE MOMENTS ===\n",
      " \n",
      "~ Nuclear dipole moment (a.u.): [0.0  0.0  1.84626242]\n",
      " \n",
      "  0: \n",
      "  * Electronic dipole moment (a.u.): [0.0  0.0  1.84626242]\n",
      "    - computed part:      [0.0  0.0  1.84626242]\n",
      "    - frozen energy part: [0.0  0.0  0.0]\n",
      "    - particle hole part: [0.0  0.0  0.0]\n",
      "  > Dipole moment (a.u.): [0.0  0.0  0.0]  Total: 0.\n",
      "                 (debye): [0.0  0.0  -0.00000001]  Total: 0.00000001\n",
      " \n",
      "  1: \n",
      "  * Electronic dipole moment (a.u.): [0.0  0.0  1.84626242]\n",
      "    - computed part:      [0.0  0.0  1.84626242]\n",
      "    - frozen energy part: [0.0  0.0  0.0]\n",
      "    - particle hole part: [0.0  0.0  0.0]\n",
      "  > Dipole moment (a.u.): [0.0  0.0  0.0]  Total: 0.\n",
      "                 (debye): [0.0  0.0  -0.00000001]  Total: 0.00000001\n",
      " \n",
      "  2: \n",
      "  * Electronic dipole moment (a.u.): [0.0  0.0  1.84626242]\n",
      "    - computed part:      [0.0  0.0  1.84626242]\n",
      "    - frozen energy part: [0.0  0.0  0.0]\n",
      "    - particle hole part: [0.0  0.0  0.0]\n",
      "  > Dipole moment (a.u.): [0.0  0.0  0.0]  Total: 0.\n",
      "                 (debye): [0.0  0.0  -0.00000001]  Total: 0.00000001\n",
      " \n",
      "  3: \n",
      "  * Electronic dipole moment (a.u.): [0.0  0.0  1.84626242]\n",
      "    - computed part:      [0.0  0.0  1.84626242]\n",
      "    - frozen energy part: [0.0  0.0  0.0]\n",
      "    - particle hole part: [0.0  0.0  0.0]\n",
      "  > Dipole moment (a.u.): [0.0  0.0  0.0]  Total: 0.\n",
      "                 (debye): [0.0  0.0  -0.00000001]  Total: 0.00000001\n",
      " \n",
      "  4: \n",
      "  * Electronic dipole moment (a.u.): [0.0  0.0  1.84626242]\n",
      "    - computed part:      [0.0  0.0  1.84626242]\n",
      "    - frozen energy part: [0.0  0.0  0.0]\n",
      "    - particle hole part: [0.0  0.0  0.0]\n",
      "  > Dipole moment (a.u.): [0.0  0.0  0.0]  Total: 0.\n",
      "                 (debye): [0.0  0.0  -0.00000001]  Total: 0.00000001\n",
      " \n",
      "  5: \n",
      "  * Electronic dipole moment (a.u.): [0.0  0.0  1.84626242]\n",
      "    - computed part:      [0.0  0.0  1.84626242]\n",
      "    - frozen energy part: [0.0  0.0  0.0]\n",
      "    - particle hole part: [0.0  0.0  0.0]\n",
      "  > Dipole moment (a.u.): [0.0  0.0  0.0]  Total: 0.\n",
      "                 (debye): [0.0  0.0  -0.00000001]  Total: 0.00000001\n",
      " \n"
     ]
    }
   ],
   "source": [
    "def filter_criterion(eigenstate, eigenvalue, aux_values):\n",
    "    return np.isclose(aux_values[0][0], 2.)\n",
    "\n",
    "new_numpy_solver = NumPyEigensolverFactory(filter_criterion=filter_criterion)\n",
    "new_numpy_excited_states_calculation = ExcitedStatesEigensolver(transformation, new_numpy_solver)\n",
    "new_numpy_results = new_numpy_excited_states_calculation.solve(driver)\n",
    "\n",
    "print(new_numpy_results)"
   ]
  },
  {
   "cell_type": "markdown",
   "metadata": {},
   "source": [
    "# SSVQEアルゴリズムの実装(qiskit)"
   ]
  },
  {
   "cell_type": "code",
   "execution_count": 7,
   "metadata": {},
   "outputs": [
    {
     "name": "stdout",
     "output_type": "stream",
     "text": [
      "4\n"
     ]
    }
   ],
   "source": [
    "n_qubit = transformation.molecule_info.get('num_orbitals')\n",
    "depth = n_qubit\n",
    "print(n_qubit)"
   ]
  },
  {
   "cell_type": "code",
   "execution_count": 8,
   "metadata": {},
   "outputs": [],
   "source": [
    "def he_ansatz_circuit(n_qubit, depth, theta_list):\n",
    "    \"\"\"he_ansatz_circuit\n",
    "    Returns hardware efficient ansatz circuit.\n",
    "\n",
    "    Args:\n",
    "        n_qubit (:class:`int`):\n",
    "            the number of qubit used (equivalent to the number of fermionic modes)\n",
    "        depth (:class:`int`):\n",
    "            depth of the circuit.\n",
    "        theta_list (:class:`numpy.ndarray`):\n",
    "            rotation angles.\n",
    "    Returns:\n",
    "\n",
    "    \"\"\"\n",
    "    qc = QuantumCircuit(n_qubit)\n",
    "    qc.ry(theta_list[-2], 0)\n",
    "    qc.rz(theta_list[-1], 0)\n",
    "    for d in range(depth):\n",
    "        for i in range(n_qubit):\n",
    "            qc.ry(theta_list[2*i+2*n_qubit*d], i)\n",
    "            qc.rz(theta_list[2*i+1+2*n_qubit*d], i)\n",
    "        for i in range(n_qubit//2):\n",
    "            qc.cz(2*i, 2*i+1)\n",
    "        for i in range(n_qubit//2-1):\n",
    "            qc.cz(2*i+1, 2*i+2)\n",
    "    for i in range(n_qubit):\n",
    "        qc.ry(theta_list[2*i+2*n_qubit*depth], i)\n",
    "        qc.rz(theta_list[2*i+1+2*n_qubit*depth], i)\n",
    "\n",
    "    return qc"
   ]
  },
  {
   "cell_type": "markdown",
   "metadata": {},
   "source": [
    "# コスト関数の定義"
   ]
  },
  {
   "cell_type": "code",
   "execution_count": 9,
   "metadata": {},
   "outputs": [],
   "source": [
    "def get_expectation(state, thCircuitStateFneta_list):\n",
    "    ansatz = he_ansatz_circuit(n_qubit, depth, theta_list)\n",
    "    psi = CircuitStateFn(state+ansatz)\n",
    "\n",
    "    # define your backend or quantum instance (where you can add settings)\n",
    "    backend = Aer.get_backend('qasm_simulator') \n",
    "    q_instance = QuantumInstance(backend, shots=1024)\n",
    "\n",
    "    # define the state to sample\n",
    "    measurable_expression = StateFn(qubit_op, is_measurement=True).compose(psi)\n",
    "\n",
    "    # convert to expectation value\n",
    "    ## (~psi @ hamiltonianan @ psi).eval() は遅いから使わない\n",
    "#     expectation = PauliExpectation().convert(measurable_expression)  \n",
    "    expectation = AerPauliExpectation().convert(measurable_expression)\n",
    "\n",
    "    # get state sampler (you can also pass the backend directly)\n",
    "    sampler = CircuitSampler(q_instance).convert(expectation) \n",
    "\n",
    "    # evaluate\n",
    "    return sampler.eval().real\n",
    "\n",
    "def cost(theta_list):\n",
    "    # 初期状態の準備\n",
    "    # state0:|0000>\n",
    "    qc0 = QuantumCircuit(n_qubit)\n",
    "    # state1:|0001>\n",
    "    qc1 = QuantumCircuit(n_qubit)\n",
    "    qc1.x(0)\n",
    "    return get_expectation(qc0 , theta_list) + 0.5*get_expectation(qc1, theta_list)"
   ]
  },
  {
   "cell_type": "code",
   "execution_count": 10,
   "metadata": {},
   "outputs": [
    {
     "data": {
      "text/plain": [
       "0.4512259496975318"
      ]
     },
     "execution_count": 10,
     "metadata": {},
     "output_type": "execute_result"
    }
   ],
   "source": [
    "init_theta_list = np.random.random(2*n_qubit*(depth+1)+2)*1e-1\n",
    "cost(init_theta_list)"
   ]
  },
  {
   "cell_type": "code",
   "execution_count": 11,
   "metadata": {},
   "outputs": [],
   "source": [
    "exp_history0 = []\n",
    "exp_history1 = []\n",
    "def callback(theta_list):\n",
    "    # 初期状態の準備\n",
    "    # state0:|0000>\n",
    "    qc0 = QuantumCircuit(n_qubit)\n",
    "    # state1:|0001>\n",
    "    qc1 = QuantumCircuit(n_qubit)\n",
    "    qc1.x(0)\n",
    "    exp_history0.append(get_expectation(qc0, theta_list))\n",
    "    exp_history1.append(get_expectation(qc1, theta_list))\n",
    "    \n",
    "method = \"BFGS\"\n",
    "options = {\"disp\": True, \"maxiter\": 50, \"gtol\": 1e-6}\n",
    "opt = minimize(cost, init_theta_list, method=method, callback=callback)"
   ]
  },
  {
   "cell_type": "code",
   "execution_count": 12,
   "metadata": {},
   "outputs": [
    {
     "data": {
      "image/png": "[encoded data removed]",
      "text/plain": [
       "<Figure size 432x288 with 1 Axes>"
      ]
     },
     "metadata": {
      "needs_background": "light"
     },
     "output_type": "display_data"
    }
   ],
   "source": [
    "plt.rcParams[\"font.size\"] = 18\n",
    "plt.plot(exp_history0, label=r\"input $|0000\\rangle$\")\n",
    "plt.plot(exp_history1, label=r\"input $|0001\\rangle$\")\n",
    "plt.plot(range(len(exp_history0)), [-1.105933352305]*len(exp_history0), linestyle=\"dashed\", color=\"black\", label=\"Exact ground state energy\")\n",
    "plt.plot(range(len(exp_history1)), [-0.732984674597]*len(exp_history1), linestyle=\"-.\", color=\"black\", label=\"Exact 1st excited state energy\")\n",
    "plt.xlabel(\"Iteration\")\n",
    "plt.ylabel(\"Energy expectation value\")\n",
    "plt.legend(bbox_to_anchor=(1.05, 1), loc='upper left', borderaxespad=0, fontsize=18)\n",
    "plt.show()"
   ]
  },
  {
   "cell_type": "code",
   "execution_count": null,
   "metadata": {},
   "outputs": [],
   "source": []
  },
  {
   "cell_type": "code",
   "execution_count": null,
   "metadata": {},
   "outputs": [],
   "source": []
  }
 ],
 "metadata": {
  "kernelspec": {
   "display_name": "Python 3",
   "language": "python",
   "name": "python3"
  },
  "language_info": {
   "codemirror_mode": {
    "name": "ipython",
    "version": 3
   },
   "file_extension": ".py",
   "mimetype": "text/x-python",
   "name": "python",
   "nbconvert_exporter": "python",
   "pygments_lexer": "ipython3",
   "version": "3.7.6"
  },
  "varInspector": {
   "cols": {
    "lenName": 16,
    "lenType": 16,
    "lenVar": 40
   },
   "kernels_config": {
    "python": {
     "delete_cmd_postfix": "",
     "delete_cmd_prefix": "del ",
     "library": "var_list.py",
     "varRefreshCmd": "print(var_dic_list())"
    },
    "r": {
     "delete_cmd_postfix": ") ",
     "delete_cmd_prefix": "rm(",
     "library": "var_list.r",
     "varRefreshCmd": "cat(var_dic_list()) "
    }
   },
   "types_to_exclude": [
    "module",
    "function",
    "builtin_function_or_method",
    "instance",
    "_Feature"
   ],
   "window_display": false
  }
 },
 "nbformat": 4,
 "nbformat_minor": 4
}
