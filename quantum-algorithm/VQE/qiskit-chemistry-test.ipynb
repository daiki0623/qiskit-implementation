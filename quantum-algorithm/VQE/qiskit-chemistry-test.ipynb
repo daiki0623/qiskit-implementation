{
 "cells": [
  {
   "cell_type": "markdown",
   "metadata": {},
   "source": [
    "# 定数を定義(水素分子)"
   ]
  },
  {
   "cell_type": "code",
   "execution_count": 1,
   "metadata": {},
   "outputs": [],
   "source": [
    "# スピン多重度\n",
    "multiplicity = 1\n",
    "# 全電荷\n",
    "charge = 0\n",
    "# 原子核配置\n",
    "distance = 0.977\n",
    "geometry = [[\"H\", [0, 0, 0]], [\"H\", [0, 0, distance]]]"
   ]
  },
  {
   "cell_type": "markdown",
   "metadata": {},
   "source": [
    "# ハミルトニアンを定義(by OpenFermion)"
   ]
  },
  {
   "cell_type": "code",
   "execution_count": 2,
   "metadata": {},
   "outputs": [
    {
     "name": "stdout",
     "output_type": "stream",
     "text": [
      "Requirement already satisfied: qulacs in /Users/muratadaiki/opt/anaconda3/lib/python3.7/site-packages (0.2.0)\n",
      "Requirement already satisfied: pyscf in /Users/muratadaiki/opt/anaconda3/lib/python3.7/site-packages (1.7.3)\n",
      "Requirement already satisfied: openfermion in /Users/muratadaiki/opt/anaconda3/lib/python3.7/site-packages (0.11.0)\n",
      "Requirement already satisfied: openfermionpyscf in /Users/muratadaiki/opt/anaconda3/lib/python3.7/site-packages (0.4)\n",
      "Requirement already satisfied: requests~=2.18 in /Users/muratadaiki/opt/anaconda3/lib/python3.7/site-packages (from openfermion) (2.23.0)\n",
      "Requirement already satisfied: numpy>=1.11.0 in /Users/muratadaiki/opt/anaconda3/lib/python3.7/site-packages (from openfermion) (1.18.1)\n",
      "Requirement already satisfied: pubchempy in /Users/muratadaiki/opt/anaconda3/lib/python3.7/site-packages (from openfermion) (1.0.4)\n",
      "Requirement already satisfied: scipy>=1.1.0 in /Users/muratadaiki/opt/anaconda3/lib/python3.7/site-packages (from openfermion) (1.4.1)\n",
      "Requirement already satisfied: networkx in /Users/muratadaiki/opt/anaconda3/lib/python3.7/site-packages (from openfermion) (2.4)\n",
      "Requirement already satisfied: h5py>=2.8 in /Users/muratadaiki/opt/anaconda3/lib/python3.7/site-packages (from openfermion) (2.10.0)\n",
      "Requirement already satisfied: six in /Users/muratadaiki/opt/anaconda3/lib/python3.7/site-packages (from h5py>=2.8->openfermion) (1.14.0)\n",
      "Requirement already satisfied: idna<3,>=2.5 in /Users/muratadaiki/opt/anaconda3/lib/python3.7/site-packages (from requests~=2.18->openfermion) (2.9)\n",
      "Requirement already satisfied: certifi>=2017.4.17 in /Users/muratadaiki/opt/anaconda3/lib/python3.7/site-packages (from requests~=2.18->openfermion) (2019.11.28)\n",
      "Requirement already satisfied: chardet<4,>=3.0.2 in /Users/muratadaiki/opt/anaconda3/lib/python3.7/site-packages (from requests~=2.18->openfermion) (3.0.4)\n",
      "Requirement already satisfied: urllib3!=1.25.0,!=1.25.1,<1.26,>=1.21.1 in /Users/muratadaiki/opt/anaconda3/lib/python3.7/site-packages (from requests~=2.18->openfermion) (1.25.8)\n",
      "Requirement already satisfied: pytest in /Users/muratadaiki/opt/anaconda3/lib/python3.7/site-packages (from openfermionpyscf) (5.4.1)\n",
      "Requirement already satisfied: decorator>=4.3.0 in /Users/muratadaiki/opt/anaconda3/lib/python3.7/site-packages (from networkx->openfermion) (4.4.2)\n",
      "Requirement already satisfied: py>=1.5.0 in /Users/muratadaiki/opt/anaconda3/lib/python3.7/site-packages (from pytest->openfermionpyscf) (1.8.1)\n",
      "Requirement already satisfied: packaging in /Users/muratadaiki/opt/anaconda3/lib/python3.7/site-packages (from pytest->openfermionpyscf) (20.3)\n",
      "Requirement already satisfied: attrs>=17.4.0 in /Users/muratadaiki/opt/anaconda3/lib/python3.7/site-packages (from pytest->openfermionpyscf) (19.3.0)\n",
      "Requirement already satisfied: more-itertools>=4.0.0 in /Users/muratadaiki/opt/anaconda3/lib/python3.7/site-packages (from pytest->openfermionpyscf) (8.2.0)\n",
      "Requirement already satisfied: pluggy<1.0,>=0.12 in /Users/muratadaiki/opt/anaconda3/lib/python3.7/site-packages (from pytest->openfermionpyscf) (0.13.1)\n",
      "Requirement already satisfied: wcwidth in /Users/muratadaiki/opt/anaconda3/lib/python3.7/site-packages (from pytest->openfermionpyscf) (0.1.8)\n",
      "Requirement already satisfied: importlib-metadata>=0.12 in /Users/muratadaiki/opt/anaconda3/lib/python3.7/site-packages (from pytest->openfermionpyscf) (1.5.0)\n",
      "Requirement already satisfied: zipp>=0.5 in /Users/muratadaiki/opt/anaconda3/lib/python3.7/site-packages (from importlib-metadata>=0.12->pytest->openfermionpyscf) (2.2.0)\n",
      "Requirement already satisfied: pyparsing>=2.0.2 in /Users/muratadaiki/opt/anaconda3/lib/python3.7/site-packages (from packaging->pytest->openfermionpyscf) (2.4.6)\n"
     ]
    }
   ],
   "source": [
    "!pip install qulacs pyscf openfermion openfermionpyscf"
   ]
  },
  {
   "cell_type": "code",
   "execution_count": 3,
   "metadata": {},
   "outputs": [],
   "source": [
    "from openfermion.transforms import get_fermion_operator, jordan_wigner\n",
    "from openfermion.hamiltonians import MolecularData\n",
    "from openfermionpyscf import run_pyscf\n",
    "from pyscf import fci"
   ]
  },
  {
   "cell_type": "code",
   "execution_count": 4,
   "metadata": {},
   "outputs": [],
   "source": [
    "# 分子軌道を表現するための基底関数(Slator Type Orbital - 3 gaussian)\n",
    "basis = \"sto-3g\"\n",
    "\n",
    "# 計算結果の保存場所\n",
    "description = \"tmp\"\n",
    "molecule = MolecularData(geometry, basis, multiplicity, charge, description)\n",
    "molecule = run_pyscf(molecule, run_scf=1, run_fci=1)\n",
    "\n",
    "n_qubit = molecule.n_qubits\n",
    "n_electron = molecule.n_electrons\n",
    "# get_molecular_hamiltonianで第二量子化形式のハミルトニアンを計算\n",
    "fermionic_hamiltonian = get_fermion_operator(\n",
    "    molecule.get_molecular_hamiltonian())\n",
    "# Jordan-Wigner変換によりハミルトニアンをパウリ行列のテンソル積形式に変換\n",
    "jw_hamiltonian = jordan_wigner(fermionic_hamiltonian)"
   ]
  },
  {
   "cell_type": "markdown",
   "metadata": {},
   "source": [
    "Jordan-Wigner変換ドキュメント<br>\n",
    "https://quantumai.google/openfermion/tutorials/jordan_wigner_and_bravyi_kitaev_transforms"
   ]
  },
  {
   "cell_type": "code",
   "execution_count": 5,
   "metadata": {},
   "outputs": [
    {
     "name": "stdout",
     "output_type": "stream",
     "text": [
      "(-0.31349601534094224+0j) [] +\n",
      "(-0.048834726365406485+0j) [X0 X1 Y2 Y3] +\n",
      "(0.048834726365406485+0j) [X0 Y1 Y2 X3] +\n",
      "(0.048834726365406485+0j) [Y0 X1 X2 Y3] +\n",
      "(-0.048834726365406485+0j) [Y0 Y1 X2 X3] +\n",
      "(0.13978238294522735+0j) [Z0] +\n",
      "(0.1576263055158343+0j) [Z0 Z1] +\n",
      "(0.10745382591353006+0j) [Z0 Z2] +\n",
      "(0.15628855227893657+0j) [Z0 Z3] +\n",
      "(0.13978238294522735+0j) [Z1] +\n",
      "(0.15628855227893657+0j) [Z1 Z2] +\n",
      "(0.10745382591353006+0j) [Z1 Z3] +\n",
      "(-0.13686895093682833+0j) [Z2] +\n",
      "(0.16419290100986608+0j) [Z2 Z3] +\n",
      "(-0.13686895093682833+0j) [Z3]\n"
     ]
    }
   ],
   "source": [
    "print(jw_hamiltonian)"
   ]
  },
  {
   "cell_type": "markdown",
   "metadata": {},
   "source": [
    "# ハミルトニアンを定義(by Qiskit Chemistry)"
   ]
  },
  {
   "cell_type": "code",
   "execution_count": 6,
   "metadata": {},
   "outputs": [
    {
     "name": "stdout",
     "output_type": "stream",
     "text": [
      "SummedOp([\n",
      "  -0.8551308269274315 * IIII,\n",
      "  0.13978238294522738 * IIIZ,\n",
      "  -0.13686895093682827 * IIZI,\n",
      "  0.13978238294522735 * IZII,\n",
      "  -0.13686895093682835 * ZIII,\n",
      "  0.10745382591353006 * IIZZ,\n",
      "  0.15762630551583431 * IZIZ,\n",
      "  0.04883472636540648 * XXYY,\n",
      "  0.04883472636540648 * YYYY,\n",
      "  0.04883472636540648 * XXXX,\n",
      "  0.04883472636540648 * YYXX,\n",
      "  0.1562885522789365 * ZIIZ,\n",
      "  0.1562885522789365 * IZZI,\n",
      "  0.16419290100986614 * ZIZI,\n",
      "  0.10745382591353006 * ZZII\n",
      "])\n"
     ]
    }
   ],
   "source": [
    "from qiskit.chemistry.drivers import PySCFDriver, UnitsType, Molecule\n",
    "from qiskit.chemistry.transformations import FermionicTransformation,FermionicTransformationType, FermionicQubitMappingType\n",
    "\n",
    "basis = \"sto3g\"\n",
    "\n",
    "molecule = Molecule(geometry=geometry, charge=charge, multiplicity=multiplicity)\n",
    "driver = PySCFDriver(molecule = molecule, unit=UnitsType.ANGSTROM, basis=basis)\n",
    "transformation = FermionicTransformation(\n",
    "    transformation=FermionicTransformationType.FULL,\n",
    "    qubit_mapping=FermionicQubitMappingType.JORDAN_WIGNER,\n",
    "    two_qubit_reduction=False,\n",
    "    freeze_core=False)\n",
    "qubit_op, _ = transformation.transform(driver)\n",
    "print(qubit_op)"
   ]
  },
  {
   "cell_type": "code",
   "execution_count": null,
   "metadata": {},
   "outputs": [],
   "source": []
  }
 ],
 "metadata": {
  "kernelspec": {
   "display_name": "Python 3",
   "language": "python",
   "name": "python3"
  },
  "language_info": {
   "codemirror_mode": {
    "name": "ipython",
    "version": 3
   },
   "file_extension": ".py",
   "mimetype": "text/x-python",
   "name": "python",
   "nbconvert_exporter": "python",
   "pygments_lexer": "ipython3",
   "version": "3.7.6"
  },
  "varInspector": {
   "cols": {
    "lenName": 16,
    "lenType": 16,
    "lenVar": 40
   },
   "kernels_config": {
    "python": {
     "delete_cmd_postfix": "",
     "delete_cmd_prefix": "del ",
     "library": "var_list.py",
     "varRefreshCmd": "print(var_dic_list())"
    },
    "r": {
     "delete_cmd_postfix": ") ",
     "delete_cmd_prefix": "rm(",
     "library": "var_list.r",
     "varRefreshCmd": "cat(var_dic_list()) "
    }
   },
   "types_to_exclude": [
    "module",
    "function",
    "builtin_function_or_method",
    "instance",
    "_Feature"
   ],
   "window_display": false
  }
 },
 "nbformat": 4,
 "nbformat_minor": 4
}
