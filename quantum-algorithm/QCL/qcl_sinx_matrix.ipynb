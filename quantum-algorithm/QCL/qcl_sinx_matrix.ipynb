{
 "cells": [
  {
   "cell_type": "code",
   "execution_count": 1,
   "metadata": {},
   "outputs": [],
   "source": [
    "from qiskit import * \n",
    "from qiskit import Aer\n",
    "from qiskit.aqua.operators import StateFn\n",
    "from qiskit.circuit import Parameter, QuantumCircuit\n",
    "from qiskit.quantum_info import Operator\n",
    "from functools import reduce\n",
    "import matplotlib.pyplot as plt\n",
    "import numpy as np\n",
    "%matplotlib inline"
   ]
  },
  {
   "cell_type": "code",
   "execution_count": 2,
   "metadata": {},
   "outputs": [],
   "source": [
    "########  パラメータ  #############\n",
    "nqubit = 3 ## qubitの数\n",
    "c_depth = 3 ## circuitの深さ\n",
    "\n",
    "# 横磁場イジングモデルのパラメーター\n",
    "time_step = 0.77  ## ランダムハミルトニアンによる時間発展の経過時間\n",
    "h = 3 # 外部磁場"
   ]
  },
  {
   "cell_type": "code",
   "execution_count": 3,
   "metadata": {},
   "outputs": [
    {
     "data": {
      "image/png": "[encoded data removed]",
      "text/plain": [
       "<Figure size 432x288 with 1 Axes>"
      ]
     },
     "metadata": {
      "needs_background": "light"
     },
     "output_type": "display_data"
    }
   ],
   "source": [
    "#### 教師データを準備\n",
    "\n",
    "## [x_min, x_max]でランダムにnum_x_train個の点を生成\n",
    "x_min = - 1.; x_max = 1.;\n",
    "num_x_train = 50\n",
    "\n",
    "## 学習したい1変数関数\n",
    "func_to_learn = lambda x: np.sin(x*np.pi)\n",
    "\n",
    "random_seed = 0 ## 乱数のシード\n",
    "np.random.seed(random_seed) ## 乱数発生器の初期化\n",
    "\n",
    "x_train = x_min + (x_max - x_min) * np.random.rand(num_x_train)\n",
    "y_train = func_to_learn(x_train)\n",
    "\n",
    "# 現実のデータを用いる場合を想定しノイズを付加\n",
    "mag_noise = 0.05\n",
    "y_train = y_train + mag_noise * np.random.randn(num_x_train)\n",
    "\n",
    "plt.plot(x_train, y_train, \"o\"); plt.show()"
   ]
  },
  {
   "cell_type": "code",
   "execution_count": 4,
   "metadata": {},
   "outputs": [
    {
     "name": "stdout",
     "output_type": "stream",
     "text": [
      "[1.+0.j 0.+0.j 0.+0.j 0.+0.j 0.+0.j 0.+0.j 0.+0.j 0.+0.j]\n"
     ]
    }
   ],
   "source": [
    "# 初期状態の準備\n",
    "q = QuantumCircuit(nqubit)\n",
    "backend = Aer.get_backend('statevector_simulator')\n",
    "result = execute(q, backend).result().get_statevector(q, decimals=3)\n",
    "print(result)"
   ]
  },
  {
   "cell_type": "code",
   "execution_count": 5,
   "metadata": {},
   "outputs": [],
   "source": [
    "# xをエンコード\n",
    "def U_in(x):\n",
    "    U = QuantumCircuit(nqubit)\n",
    "    \n",
    "    angle_y = np.arcsin(x)\n",
    "    angle_z = np.arccos(x**2)\n",
    "    \n",
    "    for i in range(nqubit):\n",
    "        U.ry(angle_y, i)\n",
    "        U.rz(angle_z, i)\n",
    "        \n",
    "    return U"
   ]
  },
  {
   "cell_type": "code",
   "execution_count": 6,
   "metadata": {},
   "outputs": [],
   "source": [
    "## 基本ゲート\n",
    "backend = Aer.get_backend('unitary_simulator')\n",
    "\n",
    "I_mat = np.eye(2, dtype=complex)\n",
    "\n",
    "q = QuantumCircuit(1)\n",
    "q.x(0)\n",
    "job = execute(q, backend)\n",
    "X_mat = job.result().get_unitary(q, decimals=3)\n",
    "\n",
    "q = QuantumCircuit(1)\n",
    "q.z(0)\n",
    "job = execute(q, backend)\n",
    "Z_mat = job.result().get_unitary(q, decimals=3)"
   ]
  },
  {
   "cell_type": "code",
   "execution_count": 7,
   "metadata": {},
   "outputs": [],
   "source": [
    "##### quantum native dojoから引用　#####\n",
    "## fullsizeのgateをつくる関数.\n",
    "def make_fullgate(list_SiteAndOperator, nqubit):\n",
    "    '''\n",
    "    list_SiteAndOperator = [ [i_0, O_0], [i_1, O_1], ...] を受け取り,\n",
    "    関係ないqubitにIdentityを挿入して\n",
    "    I(0) * ... * O_0(i_0) * ... * O_1(i_1) ...\n",
    "    という(2**nqubit, 2**nqubit)行列をつくる.\n",
    "    '''\n",
    "    list_Site = [SiteAndOperator[0] for SiteAndOperator in list_SiteAndOperator]\n",
    "    list_SingleGates = [] ## 1-qubit gateを並べてnp.kronでreduceする\n",
    "    cnt = 0\n",
    "    for i in range(nqubit):\n",
    "        if (i in list_Site):\n",
    "            list_SingleGates.append( list_SiteAndOperator[cnt][1] )\n",
    "            cnt += 1\n",
    "        else: ## 何もないsiteはidentity\n",
    "            list_SingleGates.append(I_mat)\n",
    "\n",
    "    return reduce(np.kron, list_SingleGates)"
   ]
  },
  {
   "cell_type": "code",
   "execution_count": 8,
   "metadata": {},
   "outputs": [],
   "source": [
    "##### quantum native dojoから引用　#####\n",
    "ham = np.zeros((2**nqubit,2**nqubit), dtype = complex)\n",
    "for i in range(nqubit): ## i runs 0 to nqubit-1\n",
    "    Jx = -1. + 2.*np.random.rand() ## -1~1の乱数\n",
    "    ham += Jx * make_fullgate( [ [i, X_mat] ], nqubit)\n",
    "    for j in range(i+1, nqubit):\n",
    "        J_ij = -1. + 2.*np.random.rand()\n",
    "        ham += J_ij * make_fullgate ([ [i, Z_mat], [j, Z_mat]], nqubit)\n",
    "\n",
    "## 対角化して時間発展演算子をつくる. H*P = P*D <-> H = P*D*P^dagger\n",
    "diag, eigen_vecs = np.linalg.eigh(ham)\n",
    "time_evol_op = np.dot(np.dot(eigen_vecs, np.diag(np.exp(-1j*time_step*diag))), eigen_vecs.T.conj()) # e^-iHT"
   ]
  },
  {
   "cell_type": "code",
   "execution_count": 9,
   "metadata": {},
   "outputs": [
    {
     "data": {
      "text/plain": [
       "(8, 8)"
      ]
     },
     "execution_count": 9,
     "metadata": {},
     "output_type": "execute_result"
    }
   ],
   "source": [
    "## 時間発展演算子が2**3=8次の行列であることを確認\n",
    "time_evol_op.shape"
   ]
  },
  {
   "cell_type": "code",
   "execution_count": 11,
   "metadata": {},
   "outputs": [],
   "source": [
    "## 変分量子回路U(\\theta)の構築\n",
    "def U_out(param_list):\n",
    "    qc = QuantumCircuit(nqubit)\n",
    "\n",
    "    for d in range(c_depth):\n",
    "        # 時間発展演算子を回路に組み込む\n",
    "        qc.unitary(Operator(time_evol_op), range(nqubit), label=\"time_evol\")\n",
    "\n",
    "        # パラメーター回転ゲートを導入\n",
    "        for i in range(nqubit):\n",
    "            qc.rx(-2*param_list[3*i], i)            \n",
    "            qc.rz(-2*param_list[3*i+1], i)\n",
    "            qc.rx(-2*param_list[3*i+2], i)\n",
    "    return qc"
   ]
  },
  {
   "cell_type": "code",
   "execution_count": 12,
   "metadata": {},
   "outputs": [],
   "source": [
    "# モデルの出力\n",
    "# 出力状態において最初の量子ビットのZでの期待値を計算\n",
    "from qiskit.aqua.operators import Z, I\n",
    "\n",
    "def qcl_pred(x, param_list):\n",
    "    # 回路を一つにまとめる\n",
    "    qcl_cirq = U_in(x) + U_out(param_list)\n",
    "    obs = Z ^ I ^ I\n",
    "    psi = StateFn(qcl_cirq)\n",
    "    expectation_value = (~psi @ obs @ psi).eval()\n",
    "    return expectation_value.real"
   ]
  },
  {
   "cell_type": "code",
   "execution_count": 13,
   "metadata": {},
   "outputs": [],
   "source": [
    "# コスト関数Lを計算\n",
    "def cost_func(theta):\n",
    "\n",
    "    # num_x_train個のデータについて計算\n",
    "    y_pred = [qcl_pred(x, theta) for x in x_train]\n",
    "\n",
    "    # quadratic loss\n",
    "    L = ((y_pred - y_train)**2).mean()\n",
    "\n",
    "    return L"
   ]
  },
  {
   "cell_type": "code",
   "execution_count": 14,
   "metadata": {},
   "outputs": [
    {
     "data": {
      "text/plain": [
       "0.3060054027687377"
      ]
     },
     "execution_count": 14,
     "metadata": {},
     "output_type": "execute_result"
    }
   ],
   "source": [
    "# パラメータthetaの初期値theta_initにおけるコスト関数の値\n",
    "# theta: 長さc_depth * nqubit * 3のndarray\n",
    "theta_init = [2.0 * np.pi * np.random.rand() for i in range(c_depth*nqubit*3)]\n",
    "cost_func(theta_init)"
   ]
  },
  {
   "cell_type": "code",
   "execution_count": 15,
   "metadata": {},
   "outputs": [
    {
     "data": {
      "text/plain": [
       "[<matplotlib.lines.Line2D at 0x1c97a054308>]"
      ]
     },
     "execution_count": 15,
     "metadata": {},
     "output_type": "execute_result"
    },
    {
     "data": {
      "image/png": "[encoded data removed]",
      "text/plain": [
       "<Figure size 432x288 with 1 Axes>"
      ]
     },
     "metadata": {
      "needs_background": "light"
     },
     "output_type": "display_data"
    }
   ],
   "source": [
    "# パラメータthetaの初期値のもとでのグラフ\n",
    "xlist = np.arange(x_min, x_max, 0.02)\n",
    "y_init = [qcl_pred(x, theta_init) for x in xlist]\n",
    "plt.plot(xlist, y_init)"
   ]
  },
  {
   "cell_type": "code",
   "execution_count": 16,
   "metadata": {},
   "outputs": [
    {
     "name": "stdout",
     "output_type": "stream",
     "text": [
      "[  5.96012056   3.89750242   2.18686922   4.44030336   0.5347801\n",
      "   2.06940148   4.28237217   1.97531992   4.0723676    4.84521954\n",
      "   3.9452004   -2.25667459 -11.05520732   4.30463541  -2.59443572\n",
      "   7.54209131 -14.08115219   2.1968519   10.67669888   2.68849223\n",
      "   0.85690569   8.89131196  19.22181787   0.14023356   2.08058438\n",
      "  -0.4499139    5.62937156]\n"
     ]
    }
   ],
   "source": [
    "from scipy.optimize import minimize\n",
    "# 学習(注意:数時間かかりました)\n",
    "result = minimize(cost_func, theta_init, method='Nelder-Mead')\n",
    "theta_opt = result.x\n",
    "print(theta_opt)"
   ]
  },
  {
   "cell_type": "code",
   "execution_count": 17,
   "metadata": {},
   "outputs": [
    {
     "data": {
      "image/png": "[encoded data removed]",
      "text/plain": [
       "<Figure size 720x432 with 1 Axes>"
      ]
     },
     "metadata": {
      "needs_background": "light"
     },
     "output_type": "display_data"
    }
   ],
   "source": [
    "# プロット\n",
    "plt.figure(figsize=(10, 6))\n",
    "\n",
    "xlist = np.arange(x_min, x_max, 0.02)\n",
    "\n",
    "# 教師データ\n",
    "plt.plot(x_train, y_train, \"o\", label='Teacher')\n",
    "\n",
    "# パラメータθの初期値のもとでのグラフ\n",
    "plt.plot(xlist, y_init, '--', label='Initial Model Prediction', c='gray')\n",
    "\n",
    "# モデルの予測値\n",
    "y_pred = np.array([qcl_pred(x, theta_opt) for x in xlist])\n",
    "plt.plot(xlist, y_pred, label='Final Model Prediction')\n",
    "\n",
    "plt.legend()\n",
    "plt.show()"
   ]
  }
 ],
 "metadata": {
  "kernelspec": {
   "display_name": "Python 3",
   "language": "python",
   "name": "python3"
  },
  "language_info": {
   "codemirror_mode": {
    "name": "ipython",
    "version": 3
   },
   "file_extension": ".py",
   "mimetype": "text/x-python",
   "name": "python",
   "nbconvert_exporter": "python",
   "pygments_lexer": "ipython3",
   "version": "3.7.6"
  },
  "varInspector": {
   "cols": {
    "lenName": 16,
    "lenType": 16,
    "lenVar": 40
   },
   "kernels_config": {
    "python": {
     "delete_cmd_postfix": "",
     "delete_cmd_prefix": "del ",
     "library": "var_list.py",
     "varRefreshCmd": "print(var_dic_list())"
    },
    "r": {
     "delete_cmd_postfix": ") ",
     "delete_cmd_prefix": "rm(",
     "library": "var_list.r",
     "varRefreshCmd": "cat(var_dic_list()) "
    }
   },
   "types_to_exclude": [
    "module",
    "function",
    "builtin_function_or_method",
    "instance",
    "_Feature"
   ],
   "window_display": false
  }
 },
 "nbformat": 4,
 "nbformat_minor": 4
}
