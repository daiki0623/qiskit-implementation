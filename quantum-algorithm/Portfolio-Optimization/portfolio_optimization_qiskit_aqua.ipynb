{
 "metadata": {
  "language_info": {
   "codemirror_mode": {
    "name": "ipython",
    "version": 3
   },
   "file_extension": ".py",
   "mimetype": "text/x-python",
   "name": "python",
   "nbconvert_exporter": "python",
   "pygments_lexer": "ipython3",
   "version": "3.7.6-final"
  },
  "orig_nbformat": 2,
  "kernelspec": {
   "name": "python3",
   "display_name": "Python 3",
   "language": "python"
  }
 },
 "nbformat": 4,
 "nbformat_minor": 2,
 "cells": [
  {
   "source": [
    "# ポートフォリオ最適化"
   ],
   "cell_type": "markdown",
   "metadata": {}
  },
  {
   "cell_type": "code",
   "execution_count": 1,
   "metadata": {},
   "outputs": [],
   "source": [
    "from qiskit import Aer\n",
    "from qiskit.circuit.library import TwoLocal\n",
    "from qiskit.aqua import QuantumInstance\n",
    "from qiskit.finance.applications.ising import portfolio\n",
    "from qiskit.optimization.applications.ising.common import sample_most_likely\n",
    "from qiskit.finance.data_providers import RandomDataProvider\n",
    "from qiskit.aqua.algorithms import VQE, QAOA, NumPyMinimumEigensolver\n",
    "from qiskit.aqua.components.optimizers import COBYLA\n",
    "import numpy as np\n",
    "import matplotlib.pyplot as plt\n",
    "import datetime\n",
    "import pandas as pd\n",
    "import pandas_datareader.data as web"
   ]
  },
  {
   "source": [
    "# set number of assets (= number of qubits)\n",
    "num_assets = 4"
   ],
   "cell_type": "code",
   "metadata": {},
   "execution_count": 2,
   "outputs": []
  },
  {
   "source": [
    "## ランダムな時系列データを用意"
   ],
   "cell_type": "markdown",
   "metadata": {}
  },
  {
   "cell_type": "code",
   "execution_count": 3,
   "metadata": {},
   "outputs": [],
   "source": [
    "# # Generate expected return and covariance matrix from (random) time-series\n",
    "# stocks = [(\"TICKER%s\" % i) for i in range(num_assets)]\n",
    "# data = RandomDataProvider(tickers=stocks,\n",
    "#                  start=datetime.datetime(2016,1,1),\n",
    "#                  end=datetime.datetime(2016,1,30))\n",
    "# data.run()\n",
    "# mu = data.get_period_return_mean_vector()\n",
    "# sigma = data.get_period_return_covariance_matrix()"
   ]
  },
  {
   "source": [
    "## 実際の時系列データを用いる"
   ],
   "cell_type": "markdown",
   "metadata": {}
  },
  {
   "cell_type": "code",
   "execution_count": 4,
   "metadata": {},
   "outputs": [
    {
     "output_type": "stream",
     "name": "stdout",
     "text": [
      "Requirement already satisfied: pandas in c:\\users\\daikimurata\\anaconda3\\lib\\site-packages (1.0.1)\nRequirement already satisfied: pandas_datareader in c:\\users\\daikimurata\\anaconda3\\lib\\site-packages (0.9.0)\nRequirement already satisfied: python-dateutil>=2.6.1 in c:\\users\\daikimurata\\anaconda3\\lib\\site-packages (from pandas) (2.8.1)\nRequirement already satisfied: numpy>=1.13.3 in c:\\users\\daikimurata\\anaconda3\\lib\\site-packages (from pandas) (1.18.1)\nRequirement already satisfied: pytz>=2017.2 in c:\\users\\daikimurata\\anaconda3\\lib\\site-packages (from pandas) (2019.3)\nRequirement already satisfied: lxml in c:\\users\\daikimurata\\anaconda3\\lib\\site-packages (from pandas_datareader) (4.6.2)\nRequirement already satisfied: requests>=2.19.0 in c:\\users\\daikimurata\\anaconda3\\lib\\site-packages (from pandas_datareader) (2.22.0)\nRequirement already satisfied: six>=1.5 in c:\\users\\daikimurata\\anaconda3\\lib\\site-packages (from python-dateutil>=2.6.1->pandas) (1.14.0)\nRequirement already satisfied: certifi>=2017.4.17 in c:\\users\\daikimurata\\anaconda3\\lib\\site-packages (from requests>=2.19.0->pandas_datareader) (2019.11.28)\nRequirement already satisfied: chardet<3.1.0,>=3.0.2 in c:\\users\\daikimurata\\anaconda3\\lib\\site-packages (from requests>=2.19.0->pandas_datareader) (3.0.4)\nRequirement already satisfied: idna<2.9,>=2.5 in c:\\users\\daikimurata\\anaconda3\\lib\\site-packages (from requests>=2.19.0->pandas_datareader) (2.8)\nRequirement already satisfied: urllib3!=1.25.0,!=1.25.1,<1.26,>=1.21.1 in c:\\users\\daikimurata\\anaconda3\\lib\\site-packages (from requests>=2.19.0->pandas_datareader) (1.25.8)\n"
     ]
    }
   ],
   "source": [
    "!pip install pandas pandas_datareader"
   ]
  },
  {
   "cell_type": "code",
   "execution_count": 5,
   "metadata": {},
   "outputs": [
    {
     "output_type": "display_data",
     "data": {
      "text/plain": "Symbols            GOOG       AAPL          FB         AMZN\nDate                                                       \n2017-12-22  1060.119995  42.040852  177.199997  1168.359985\n2017-12-26  1056.739990  40.974274  175.990005  1176.760010\n2017-12-27  1049.369995  40.981483  177.619995  1182.260010\n2017-12-28  1048.140015  41.096786  177.919998  1186.099976\n2017-12-29  1046.400024  40.652374  176.460007  1169.469971",
      "text/html": "<div>\n<style scoped>\n    .dataframe tbody tr th:only-of-type {\n        vertical-align: middle;\n    }\n\n    .dataframe tbody tr th {\n        vertical-align: top;\n    }\n\n    .dataframe thead th {\n        text-align: right;\n    }\n</style>\n<table border=\"1\" class=\"dataframe\">\n  <thead>\n    <tr style=\"text-align: right;\">\n      <th>Symbols</th>\n      <th>GOOG</th>\n      <th>AAPL</th>\n      <th>FB</th>\n      <th>AMZN</th>\n    </tr>\n    <tr>\n      <th>Date</th>\n      <th></th>\n      <th></th>\n      <th></th>\n      <th></th>\n    </tr>\n  </thead>\n  <tbody>\n    <tr>\n      <th>2017-12-22</th>\n      <td>1060.119995</td>\n      <td>42.040852</td>\n      <td>177.199997</td>\n      <td>1168.359985</td>\n    </tr>\n    <tr>\n      <th>2017-12-26</th>\n      <td>1056.739990</td>\n      <td>40.974274</td>\n      <td>175.990005</td>\n      <td>1176.760010</td>\n    </tr>\n    <tr>\n      <th>2017-12-27</th>\n      <td>1049.369995</td>\n      <td>40.981483</td>\n      <td>177.619995</td>\n      <td>1182.260010</td>\n    </tr>\n    <tr>\n      <th>2017-12-28</th>\n      <td>1048.140015</td>\n      <td>41.096786</td>\n      <td>177.919998</td>\n      <td>1186.099976</td>\n    </tr>\n    <tr>\n      <th>2017-12-29</th>\n      <td>1046.400024</td>\n      <td>40.652374</td>\n      <td>176.460007</td>\n      <td>1169.469971</td>\n    </tr>\n  </tbody>\n</table>\n</div>"
     },
     "metadata": {}
    }
   ],
   "source": [
    "# 銘柄選択\n",
    "codes = [\"GOOG\", 'AAPL', 'FB', 'AMZN'] # GAFA\n",
    "\n",
    "# 2017年の1年間のデータを使用\n",
    "start = datetime.datetime(2017, 1, 1)\n",
    "end = datetime.datetime(2017, 12, 31)\n",
    "\n",
    "# Yahoo! Financeから日次の株価データを取得\n",
    "data = web.DataReader(codes, 'yahoo', start, end)\n",
    "\n",
    "df = data['Adj Close'] \n",
    "\n",
    "## 直近のデータの表示\n",
    "display(df.tail())"
   ]
  },
  {
   "cell_type": "code",
   "execution_count": 6,
   "metadata": {},
   "outputs": [],
   "source": [
    "daily_return = df.pct_change() # 日次リターン\n",
    "expected_return = daily_return.dropna(how='all').mean() * 252 # 期待リターン：年率換算のため年間の営業日数252を掛ける\n",
    "cov = daily_return.dropna(how='all').cov() * 252 # 年率換算のため"
   ]
  },
  {
   "cell_type": "code",
   "execution_count": 7,
   "metadata": {},
   "outputs": [],
   "source": [
    "q = 1                   # set risk factor\n",
    "budget = num_assets  # set budget (the number of assets to be selected out of n)\n",
    "penalty = num_assets      # set parameter to scale the budget penalty term\n",
    "\n",
    "qubitOp, offset = portfolio.get_operator(expected_return.values, cov.values, q, budget, penalty)"
   ]
  },
  {
   "cell_type": "code",
   "execution_count": 8,
   "metadata": {},
   "outputs": [],
   "source": [
    "def index_to_selection(i, num_assets):\n",
    "    s = \"{0:b}\".format(i).rjust(num_assets)\n",
    "    x = np.array([1 if s[i]=='1' else 0 for i in reversed(range(num_assets))])\n",
    "    return x\n",
    "\n",
    "def print_result(result):\n",
    "    selection = sample_most_likely(result.eigenstate)\n",
    "    value = portfolio.portfolio_value(selection, expected_return.values, cov.values, q, budget, penalty)\n",
    "    np.set_printoptions(formatter={'float': '{:.4f}'.format})\n",
    "    print('Optimal: selection {}, value {}'.format(selection, value))\n",
    "\n",
    "    eigenvector = result.eigenstate if isinstance(result.eigenstate, np.ndarray) else result.eigenstate.to_matrix()\n",
    "    probabilities = np.abs(eigenvector)**2\n",
    "    i_sorted = reversed(np.argsort(probabilities))\n",
    "    print('\\n----------------- Full result ---------------------')\n",
    "    print('selection\\tvalue\\t\\tprobability')\n",
    "    print('---------------------------------------------------')\n",
    "    for i in i_sorted:\n",
    "        x = index_to_selection(i, num_assets)\n",
    "        value = portfolio.portfolio_value(x, expected_return.values, cov.values, q, budget, penalty)\n",
    "        probability = probabilities[i]\n",
    "        print('%10s\\t%.4f\\t\\t%.4f' %(x, value, probability))"
   ]
  },
  {
   "cell_type": "code",
   "execution_count": 9,
   "metadata": {},
   "outputs": [
    {
     "output_type": "stream",
     "name": "stdout",
     "text": [
      "Optimal: selection [1.0000 1.0000 1.0000 1.0000], value -1.2547346932627472\n\n----------------- Full result ---------------------\nselection\tvalue\t\tprobability\n---------------------------------------------------\n [1 1 1 1]\t-1.2547\t\t0.9999\n [1 1 0 1]\t3.0305\t\t0.0000\n [1 0 1 1]\t3.0284\t\t0.0000\n [0 1 1 0]\t15.2512\t\t0.0000\n [1 0 1 0]\t15.3589\t\t0.0000\n [0 1 1 1]\t2.9152\t\t0.0000\n [0 0 1 1]\t15.2249\t\t0.0000\n [0 0 0 1]\t35.5796\t\t0.0000\n [1 0 0 1]\t15.3463\t\t0.0000\n [1 1 0 0]\t15.3700\t\t0.0000\n [0 1 0 1]\t15.2372\t\t0.0000\n [0 0 0 0]\t64.0000\t\t0.0000\n [1 1 1 0]\t3.0381\t\t0.0000\n [0 0 1 0]\t35.5987\t\t0.0000\n [0 1 0 0]\t35.6199\t\t0.0000\n [1 0 0 0]\t35.7235\t\t0.0000\n"
     ]
    }
   ],
   "source": [
    "backend = Aer.get_backend('statevector_simulator')\n",
    "seed = 50\n",
    "\n",
    "cobyla = COBYLA()\n",
    "cobyla.set_options(maxiter=500)\n",
    "ry = TwoLocal(qubitOp.num_qubits, 'ry', 'cz', reps=3, entanglement='full')\n",
    "vqe = VQE(qubitOp, ry, cobyla)\n",
    "vqe.random_seed = seed\n",
    "\n",
    "quantum_instance = QuantumInstance(backend=backend, seed_simulator=seed, seed_transpiler=seed)\n",
    "\n",
    "result = vqe.run(quantum_instance)\n",
    "\n",
    "print_result(result)"
   ]
  },
  {
   "cell_type": "code",
   "execution_count": null,
   "metadata": {},
   "outputs": [],
   "source": []
  }
 ]
}