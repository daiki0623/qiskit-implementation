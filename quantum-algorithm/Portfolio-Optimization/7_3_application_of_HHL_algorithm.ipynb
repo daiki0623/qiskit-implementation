{
 "cells": [
  {
   "cell_type": "markdown",
   "metadata": {
    "id": "DWo9sy5EaSeH"
   },
   "source": [
    "## 7-3. HHLアルゴリズムを用いたポートフォリオ最適化\n",
    "この節では論文[1]を参考に、過去の株価変動のデータから、最適なポートフォリオ（資産配分）を計算してみよう。\n",
    "ポートフォリオ最適化は、[7-1節](7.1_quantum_phase_estimation_detailed.ipynb)で学んだHHLアルゴリズムを用いることで、従来より高速に解けることが期待されている問題の一つである。\n",
    "今回は具体的に、GAFA (Google, Apple, Facebook, Amazon) の4社の株式に投資する際、どのような資産配分を行えば最も低いリスクで高いリターンを得られるかという問題を考える。"
   ]
  },
  {
   "cell_type": "markdown",
   "metadata": {
    "id": "BsklTbqqaSeT"
   },
   "source": [
    "### 株価データ取得\n",
    "まずは各社の株価データを取得する。\n",
    "\n",
    "* GAFA 4社の日次データを用いる\n",
    "* 株価データ取得のためにpandas_datareaderを用いてYahoo! Financeのデータベースから取得\n",
    "* 株価はドル建ての調整後終値（Adj. Close）を用いる"
   ]
  },
  {
   "cell_type": "code",
   "execution_count": 1,
   "metadata": {
    "id": "3PwD217JaSeU"
   },
   "outputs": [
    {
     "name": "stdout",
     "output_type": "stream",
     "text": [
      "Requirement already satisfied: pandas in /Users/muratadaiki/opt/anaconda3/lib/python3.7/site-packages (1.0.2)\n",
      "Requirement already satisfied: pandas_datareader in /Users/muratadaiki/opt/anaconda3/lib/python3.7/site-packages (0.9.0)\n",
      "Requirement already satisfied: pytz>=2017.2 in /Users/muratadaiki/opt/anaconda3/lib/python3.7/site-packages (from pandas) (2019.3)\n",
      "Requirement already satisfied: numpy>=1.13.3 in /Users/muratadaiki/opt/anaconda3/lib/python3.7/site-packages (from pandas) (1.18.1)\n",
      "Requirement already satisfied: python-dateutil>=2.6.1 in /Users/muratadaiki/opt/anaconda3/lib/python3.7/site-packages (from pandas) (2.8.1)\n",
      "Requirement already satisfied: six>=1.5 in /Users/muratadaiki/opt/anaconda3/lib/python3.7/site-packages (from python-dateutil>=2.6.1->pandas) (1.14.0)\n",
      "Requirement already satisfied: lxml in /Users/muratadaiki/opt/anaconda3/lib/python3.7/site-packages (from pandas_datareader) (4.6.2)\n",
      "Requirement already satisfied: requests>=2.19.0 in /Users/muratadaiki/opt/anaconda3/lib/python3.7/site-packages (from pandas_datareader) (2.23.0)\n",
      "Requirement already satisfied: certifi>=2017.4.17 in /Users/muratadaiki/opt/anaconda3/lib/python3.7/site-packages (from requests>=2.19.0->pandas_datareader) (2019.11.28)\n",
      "Requirement already satisfied: urllib3!=1.25.0,!=1.25.1,<1.26,>=1.21.1 in /Users/muratadaiki/opt/anaconda3/lib/python3.7/site-packages (from requests>=2.19.0->pandas_datareader) (1.25.8)\n",
      "Requirement already satisfied: idna<3,>=2.5 in /Users/muratadaiki/opt/anaconda3/lib/python3.7/site-packages (from requests>=2.19.0->pandas_datareader) (2.9)\n",
      "Requirement already satisfied: chardet<4,>=3.0.2 in /Users/muratadaiki/opt/anaconda3/lib/python3.7/site-packages (from requests>=2.19.0->pandas_datareader) (3.0.4)\n",
      "\u001b[33mWARNING: You are using pip version 20.3.3; however, version 21.0.1 is available.\n",
      "You should consider upgrading via the '/Users/muratadaiki/opt/anaconda3/bin/python -m pip install --upgrade pip' command.\u001b[0m\n"
     ]
    }
   ],
   "source": [
    "# データ取得に必要なpandas, pandas_datareaderのインストール\n",
    "!pip install pandas pandas_datareader"
   ]
  },
  {
   "cell_type": "code",
   "execution_count": 2,
   "metadata": {
    "id": "AhWe9_GCaSeV",
    "scrolled": true
   },
   "outputs": [],
   "source": [
    "import numpy as np\n",
    "import pandas as pd\n",
    "import pandas_datareader.data as web\n",
    "import datetime\n",
    "import matplotlib.pyplot as plt\n",
    "\n",
    "from qiskit import Aer\n",
    "from qiskit.circuit.library import QFT\n",
    "from qiskit.aqua import QuantumInstance, aqua_globals\n",
    "from qiskit.quantum_info import state_fidelity\n",
    "from qiskit.aqua.algorithms import HHL, NumPyLSsolver\n",
    "from qiskit.aqua.components.eigs import EigsQPE\n",
    "from qiskit.aqua.components.reciprocals import LookupRotation\n",
    "from qiskit.aqua.operators import MatrixOperator\n",
    "from qiskit.aqua.components.initial_states import Custom"
   ]
  },
  {
   "cell_type": "code",
   "execution_count": 3,
   "metadata": {
    "id": "NeF3Lxc4aSeV",
    "outputId": "289341db-602e-4448-e717-4d2b0282b9f1"
   },
   "outputs": [
    {
     "data": {
      "text/html": [
       "<div>\n",
       "<style scoped>\n",
       "    .dataframe tbody tr th:only-of-type {\n",
       "        vertical-align: middle;\n",
       "    }\n",
       "\n",
       "    .dataframe tbody tr th {\n",
       "        vertical-align: top;\n",
       "    }\n",
       "\n",
       "    .dataframe thead th {\n",
       "        text-align: right;\n",
       "    }\n",
       "</style>\n",
       "<table border=\"1\" class=\"dataframe\">\n",
       "  <thead>\n",
       "    <tr style=\"text-align: right;\">\n",
       "      <th>Symbols</th>\n",
       "      <th>GOOG</th>\n",
       "      <th>AAPL</th>\n",
       "      <th>FB</th>\n",
       "      <th>AMZN</th>\n",
       "    </tr>\n",
       "    <tr>\n",
       "      <th>Date</th>\n",
       "      <th></th>\n",
       "      <th></th>\n",
       "      <th></th>\n",
       "      <th></th>\n",
       "    </tr>\n",
       "  </thead>\n",
       "  <tbody>\n",
       "    <tr>\n",
       "      <th>2017-12-22</th>\n",
       "      <td>1060.119995</td>\n",
       "      <td>42.040852</td>\n",
       "      <td>177.199997</td>\n",
       "      <td>1168.359985</td>\n",
       "    </tr>\n",
       "    <tr>\n",
       "      <th>2017-12-26</th>\n",
       "      <td>1056.739990</td>\n",
       "      <td>40.974274</td>\n",
       "      <td>175.990005</td>\n",
       "      <td>1176.760010</td>\n",
       "    </tr>\n",
       "    <tr>\n",
       "      <th>2017-12-27</th>\n",
       "      <td>1049.369995</td>\n",
       "      <td>40.981483</td>\n",
       "      <td>177.619995</td>\n",
       "      <td>1182.260010</td>\n",
       "    </tr>\n",
       "    <tr>\n",
       "      <th>2017-12-28</th>\n",
       "      <td>1048.140015</td>\n",
       "      <td>41.096786</td>\n",
       "      <td>177.919998</td>\n",
       "      <td>1186.099976</td>\n",
       "    </tr>\n",
       "    <tr>\n",
       "      <th>2017-12-29</th>\n",
       "      <td>1046.400024</td>\n",
       "      <td>40.652374</td>\n",
       "      <td>176.460007</td>\n",
       "      <td>1169.469971</td>\n",
       "    </tr>\n",
       "  </tbody>\n",
       "</table>\n",
       "</div>"
      ],
      "text/plain": [
       "Symbols            GOOG       AAPL          FB         AMZN\n",
       "Date                                                       \n",
       "2017-12-22  1060.119995  42.040852  177.199997  1168.359985\n",
       "2017-12-26  1056.739990  40.974274  175.990005  1176.760010\n",
       "2017-12-27  1049.369995  40.981483  177.619995  1182.260010\n",
       "2017-12-28  1048.140015  41.096786  177.919998  1186.099976\n",
       "2017-12-29  1046.400024  40.652374  176.460007  1169.469971"
      ]
     },
     "metadata": {},
     "output_type": "display_data"
    }
   ],
   "source": [
    "# 銘柄選択\n",
    "codes = [\"GOOG\", 'AAPL', 'FB', 'AMZN'] # GAFA\n",
    "\n",
    "# 2017年の1年間のデータを使用\n",
    "start = datetime.datetime(2017, 1, 1)\n",
    "end = datetime.datetime(2017, 12, 31)\n",
    "\n",
    "# Yahoo! Financeから日次の株価データを取得\n",
    "data = web.DataReader(codes, 'yahoo', start, end)\n",
    "\n",
    "df = data['Adj Close'] \n",
    "\n",
    "## 直近のデータの表示\n",
    "display(df.tail())"
   ]
  },
  {
   "cell_type": "code",
   "execution_count": 4,
   "metadata": {
    "id": "fnSXz90daSeX",
    "outputId": "718ea6e7-4535-42d9-ad99-ef340184e78f",
    "scrolled": true
   },
   "outputs": [
    {
     "data": {
      "text/plain": [
       "<matplotlib.axes._subplots.AxesSubplot at 0x7f82ab633ad0>"
      ]
     },
     "execution_count": 4,
     "metadata": {},
     "output_type": "execute_result"
    },
    {
     "data": {
      "image/png": "[encoded data removed]",
      "text/plain": [
       "<Figure size 1080x432 with 2 Axes>"
      ]
     },
     "metadata": {
      "needs_background": "light"
     },
     "output_type": "display_data"
    }
   ],
   "source": [
    "## 株価をプロットしてみる\n",
    "fig, axes = plt.subplots(nrows=1, ncols=2, figsize=(15, 6))\n",
    "df.loc[:,['AAPL', 'FB']].plot(ax=axes[0])\n",
    "df.loc[:,['GOOG', 'AMZN']].plot(ax=axes[1])"
   ]
  },
  {
   "cell_type": "markdown",
   "metadata": {
    "id": "QMMeklXHaSeX"
   },
   "source": [
    "※ここで、4つの銘柄を2つのグループに分けているのは、株価の値がそれぞれ近くプロット時に見やすいからであり、深い意味はない。\n",
    "\n",
    "### データの前処理\n",
    "次に、取得した株価を日次リターンに変換し、いくつかの統計量を求めておく。\n",
    "\n",
    "#### 日次リターンへの変換\n",
    "個別銘柄の日次リターン（変化率） $y_t$ （$t$は日付）は以下で定義される。 \n",
    "\n",
    "$$\n",
    "y_t = \\frac{P_t - P_{t-1}}{P_{t-1}}\n",
    "$$\n",
    "\n",
    "これは `pandas DataFrame` の `pct_change()` メソッドで得られる。"
   ]
  },
  {
   "cell_type": "code",
   "execution_count": 5,
   "metadata": {
    "id": "m7jNaXtOaSeX",
    "outputId": "3170af4c-5766-4e8f-b4fb-a0aab35dec01"
   },
   "outputs": [
    {
     "data": {
      "text/html": [
       "<div>\n",
       "<style scoped>\n",
       "    .dataframe tbody tr th:only-of-type {\n",
       "        vertical-align: middle;\n",
       "    }\n",
       "\n",
       "    .dataframe tbody tr th {\n",
       "        vertical-align: top;\n",
       "    }\n",
       "\n",
       "    .dataframe thead th {\n",
       "        text-align: right;\n",
       "    }\n",
       "</style>\n",
       "<table border=\"1\" class=\"dataframe\">\n",
       "  <thead>\n",
       "    <tr style=\"text-align: right;\">\n",
       "      <th>Symbols</th>\n",
       "      <th>GOOG</th>\n",
       "      <th>AAPL</th>\n",
       "      <th>FB</th>\n",
       "      <th>AMZN</th>\n",
       "    </tr>\n",
       "    <tr>\n",
       "      <th>Date</th>\n",
       "      <th></th>\n",
       "      <th></th>\n",
       "      <th></th>\n",
       "      <th></th>\n",
       "    </tr>\n",
       "  </thead>\n",
       "  <tbody>\n",
       "    <tr>\n",
       "      <th>2017-12-22</th>\n",
       "      <td>-0.003300</td>\n",
       "      <td>0.000000</td>\n",
       "      <td>-0.001409</td>\n",
       "      <td>-0.005448</td>\n",
       "    </tr>\n",
       "    <tr>\n",
       "      <th>2017-12-26</th>\n",
       "      <td>-0.003188</td>\n",
       "      <td>-0.025370</td>\n",
       "      <td>-0.006828</td>\n",
       "      <td>0.007190</td>\n",
       "    </tr>\n",
       "    <tr>\n",
       "      <th>2017-12-27</th>\n",
       "      <td>-0.006974</td>\n",
       "      <td>0.000176</td>\n",
       "      <td>0.009262</td>\n",
       "      <td>0.004674</td>\n",
       "    </tr>\n",
       "    <tr>\n",
       "      <th>2017-12-28</th>\n",
       "      <td>-0.001172</td>\n",
       "      <td>0.002814</td>\n",
       "      <td>0.001689</td>\n",
       "      <td>0.003248</td>\n",
       "    </tr>\n",
       "    <tr>\n",
       "      <th>2017-12-29</th>\n",
       "      <td>-0.001660</td>\n",
       "      <td>-0.010814</td>\n",
       "      <td>-0.008206</td>\n",
       "      <td>-0.014021</td>\n",
       "    </tr>\n",
       "  </tbody>\n",
       "</table>\n",
       "</div>"
      ],
      "text/plain": [
       "Symbols         GOOG      AAPL        FB      AMZN\n",
       "Date                                              \n",
       "2017-12-22 -0.003300  0.000000 -0.001409 -0.005448\n",
       "2017-12-26 -0.003188 -0.025370 -0.006828  0.007190\n",
       "2017-12-27 -0.006974  0.000176  0.009262  0.004674\n",
       "2017-12-28 -0.001172  0.002814  0.001689  0.003248\n",
       "2017-12-29 -0.001660 -0.010814 -0.008206 -0.014021"
      ]
     },
     "metadata": {},
     "output_type": "display_data"
    }
   ],
   "source": [
    "daily_return = df.pct_change()\n",
    "display(daily_return.tail())"
   ]
  },
  {
   "cell_type": "markdown",
   "metadata": {
    "id": "thn5s77uaSeY"
   },
   "source": [
    "#### 期待リターン\n",
    "銘柄ごとの期待リターン$\\vec R$を求める。ここでは過去のリターンの算術平均を用いる：\n",
    "\n",
    "$$\n",
    "\\vec R = \\frac{1}{T} \\sum_{t= 1}^{T} \\vec y_t\n",
    "$$"
   ]
  },
  {
   "cell_type": "code",
   "execution_count": 6,
   "metadata": {
    "id": "lvbALCANaSeZ",
    "outputId": "b08618f1-80e5-4353-a937-1ddcc79c839b"
   },
   "outputs": [
    {
     "name": "stdout",
     "output_type": "stream",
     "text": [
      "Symbols\n",
      "GOOG    0.300215\n",
      "AAPL    0.411191\n",
      "FB      0.430156\n",
      "AMZN    0.464567\n",
      "dtype: float64\n"
     ]
    }
   ],
   "source": [
    "expected_return = daily_return.dropna(how='all').mean() * 252 # 年率換算のため年間の営業日数252を掛ける\n",
    "print(expected_return)"
   ]
  },
  {
   "cell_type": "markdown",
   "metadata": {
    "id": "x_505nzRaSea"
   },
   "source": [
    "#### 分散・共分散行列\n",
    "リターンの標本不偏分散・共分散行列$\\Sigma$は以下で定義される。\n",
    "\n",
    "$$\n",
    "\\Sigma = \\frac{1}{T-1} \\sum_{t=1}^{T} ( \\vec y_t -\\vec R ) (\\vec y_t -\\vec R )^T\n",
    "$$"
   ]
  },
  {
   "cell_type": "code",
   "execution_count": 7,
   "metadata": {
    "id": "FLorfw9haSea",
    "outputId": "69913883-5d58-4bc0-def9-9089ef01ba10"
   },
   "outputs": [
    {
     "data": {
      "text/html": [
       "<div>\n",
       "<style scoped>\n",
       "    .dataframe tbody tr th:only-of-type {\n",
       "        vertical-align: middle;\n",
       "    }\n",
       "\n",
       "    .dataframe tbody tr th {\n",
       "        vertical-align: top;\n",
       "    }\n",
       "\n",
       "    .dataframe thead th {\n",
       "        text-align: right;\n",
       "    }\n",
       "</style>\n",
       "<table border=\"1\" class=\"dataframe\">\n",
       "  <thead>\n",
       "    <tr style=\"text-align: right;\">\n",
       "      <th>Symbols</th>\n",
       "      <th>GOOG</th>\n",
       "      <th>AAPL</th>\n",
       "      <th>FB</th>\n",
       "      <th>AMZN</th>\n",
       "    </tr>\n",
       "    <tr>\n",
       "      <th>Symbols</th>\n",
       "      <th></th>\n",
       "      <th></th>\n",
       "      <th></th>\n",
       "      <th></th>\n",
       "    </tr>\n",
       "  </thead>\n",
       "  <tbody>\n",
       "    <tr>\n",
       "      <th>GOOG</th>\n",
       "      <td>0.023690</td>\n",
       "      <td>0.013303</td>\n",
       "      <td>0.018382</td>\n",
       "      <td>0.021614</td>\n",
       "    </tr>\n",
       "    <tr>\n",
       "      <th>AAPL</th>\n",
       "      <td>0.013303</td>\n",
       "      <td>0.031119</td>\n",
       "      <td>0.016291</td>\n",
       "      <td>0.018877</td>\n",
       "    </tr>\n",
       "    <tr>\n",
       "      <th>FB</th>\n",
       "      <td>0.018382</td>\n",
       "      <td>0.016291</td>\n",
       "      <td>0.028855</td>\n",
       "      <td>0.023337</td>\n",
       "    </tr>\n",
       "    <tr>\n",
       "      <th>AMZN</th>\n",
       "      <td>0.021614</td>\n",
       "      <td>0.018877</td>\n",
       "      <td>0.023337</td>\n",
       "      <td>0.044120</td>\n",
       "    </tr>\n",
       "  </tbody>\n",
       "</table>\n",
       "</div>"
      ],
      "text/plain": [
       "Symbols      GOOG      AAPL        FB      AMZN\n",
       "Symbols                                        \n",
       "GOOG     0.023690  0.013303  0.018382  0.021614\n",
       "AAPL     0.013303  0.031119  0.016291  0.018877\n",
       "FB       0.018382  0.016291  0.028855  0.023337\n",
       "AMZN     0.021614  0.018877  0.023337  0.044120"
      ]
     },
     "metadata": {},
     "output_type": "display_data"
    }
   ],
   "source": [
    "cov = daily_return.dropna(how='all').cov() * 252 # 年率換算のため\n",
    "display(cov)"
   ]
  },
  {
   "cell_type": "markdown",
   "metadata": {
    "id": "og_4VY1raSeb"
   },
   "source": [
    "### ポートフォリオ最適化\n",
    "準備が整ったところで、ポートフォリオ最適化に取り組もう。\n",
    "\n",
    "まず、ポートフォリオ（i.e., 資産配分）を4成分のベクトル $\\vec{w} = (w_0,w_1,w_2,w_3)^T$ で表す。\n",
    "これは各銘柄を持つ割合（ウェイト）を表しており、例えば $\\vec{w}=(1,0,0,0)$ であれば Google 株に全資産の100%を投入しするポートフォリオを意味する。\n",
    "\n",
    "以下の式を満たすようなポートフォリオを考えてみよう。\n",
    "\n",
    "$$\n",
    "\\min_{\\vec{w}} \\frac{1}{2} \\vec{w}^T \\Sigma \\vec{w} \\:\\:\\: \\text{s.t.} \\:\\: \\vec R^T \\vec w = \\mu , \\: \\vec 1^T \\vec w =1\n",
    "$$\n",
    "\n",
    "この式は\n",
    "\n",
    "* 「ポートフォリオの期待リターン（リターンの平均値）が$\\mu$ 」\n",
    "* 「ポートフォリオに投資するウェイトの合計が1」（$\\vec 1 = (1,1,1,1)^T$）\n",
    "\n",
    "という条件の下で、\n",
    "\n",
    "* 「ポートフォリオのリターンの分散の最小化」\n",
    "\n",
    "を行うことを意味している。つまり、将来的に $\\mu$ だけのリターンを望む時に、なるべくその変動（リスク）を小さくするようなポートフォリオが最善だというわけである。このような問題設定は、[Markowitzの平均分散アプローチ](https://ja.wikipedia.org/wiki/現代ポートフォリオ理論)と呼ばれ、現代の金融工学の基礎となる考えの一つである。\n",
    "\n",
    "ラグランジュの未定乗数法を用いると、上記の条件を満たす$\\vec{w}$は、線形方程式\n",
    "\n",
    "$$\n",
    "\\begin{gather}\n",
    "W\n",
    "\\left( \n",
    "\\begin{array}{c}\n",
    "\\eta \\\\\n",
    "\\theta \\\\\n",
    "\\vec w\n",
    "\\end{array}\n",
    "\\right)\n",
    "=\n",
    "\\left( \n",
    "\\begin{array}{c}\n",
    " \\mu \\\\\n",
    " 1 \\\\\n",
    "\\vec 0\n",
    "\\end{array}\n",
    "\\right),  \\tag{1}\\\\\n",
    "W =\n",
    "\\left( \n",
    "\\begin{array}{ccc}\n",
    "0 & 0 & \\vec R^T \\\\\n",
    "0 & 0 & \\vec 1^T \\\\\n",
    "\\vec{R} &\\vec 1 & \\Sigma \n",
    "\\end{array}\n",
    "\\right) \n",
    "\\end{gather}\n",
    "$$\n",
    "\n",
    "を解くことで得られる事がわかる。\n",
    "ここで $\\eta, \\theta$ はラグランジュの未定乗数法のパラメータである。\n",
    "したがって、最適なポートフォリオ $\\vec w$ を求めるためには、連立方程式(1)を $\\vec w$ について解けば良いことになる。\n",
    "これで、ポートフォリオ最適化問題をHHLアルゴリズムが使える線形一次方程式に帰着できた。\n",
    "\n",
    "#### 行列Wの作成"
   ]
  },
  {
   "cell_type": "code",
   "execution_count": 8,
   "metadata": {
    "id": "evuPJxg9aSeb",
    "outputId": "9d7fdcda-04a1-46c3-f56b-da4dc72219c5"
   },
   "outputs": [
    {
     "name": "stdout",
     "output_type": "stream",
     "text": [
      "[[0.         0.         0.30021458 0.41119131 0.43015563 0.46456748]\n",
      " [0.         0.         1.         1.         1.         1.        ]\n",
      " [0.30021458 1.         0.02369003 0.01330333 0.01838175 0.0216144 ]\n",
      " [0.41119131 1.         0.01330333 0.0311191  0.01629131 0.01887668]\n",
      " [0.43015563 1.         0.01838175 0.01629131 0.02885482 0.02333747]\n",
      " [0.46456748 1.         0.0216144  0.01887668 0.02333747 0.04412049]]\n"
     ]
    }
   ],
   "source": [
    "R = expected_return.values\n",
    "Pi = np.ones(4)\n",
    "S = cov.values\n",
    "\n",
    "row1 = np.append(np.zeros(2), R).reshape(1,-1)\n",
    "row2 = np.append(np.zeros(2), Pi).reshape(1,-1)\n",
    "row3 = np.concatenate([R.reshape(-1,1), Pi.reshape(-1,1), S], axis=1)\n",
    "W = np.concatenate([row1, row2, row3])\n",
    "\n",
    "np.set_printoptions(linewidth=200)\n",
    "print(W)"
   ]
  },
  {
   "cell_type": "code",
   "execution_count": 9,
   "metadata": {
    "id": "g4jAikLlaSec",
    "outputId": "58a230d3-f934-4f19-cb9c-2c7d51f75b27"
   },
   "outputs": [],
   "source": [
    "## Wの固有値を確認 -> [-pi, pi] に収まっている\n",
    "# print(np.linalg.eigh(W)[0])"
   ]
  },
  {
   "cell_type": "markdown",
   "metadata": {
    "id": "b8D8aqUyaSed"
   },
   "source": [
    "#### 右辺ベクトルの作成\n",
    "以下でポートフォリオの期待リターン $\\mu$ を指定すると、そのようなリターンをもたらす最もリスクの小さいポートフォリオを計算できる。$\\mu$ は自由に設定できる。一般に期待リターンが大きいほどリスクも大きくなるが、ここでは例として10%としておく（GAFA株がガンガン上がっている時期なので、これはかなり弱気な方である）。"
   ]
  },
  {
   "cell_type": "code",
   "execution_count": 10,
   "metadata": {
    "id": "SJNB98qAaSed",
    "outputId": "9e3c25f4-1560-49de-a492-204a755f49f7"
   },
   "outputs": [
    {
     "name": "stdout",
     "output_type": "stream",
     "text": [
      "[0.1 1.  0.  0.  0.  0. ]\n"
     ]
    }
   ],
   "source": [
    "mu = 0.1 # ポートフォリオのリターン（手で入れるパラメータ）\n",
    "xi = 1.0 \n",
    "mu_xi_0 = np.append(np.array([mu, xi]), np.zeros_like(R)) ## (1)式の右辺のベクトル\n",
    "print(mu_xi_0)"
   ]
  },
  {
   "cell_type": "markdown",
   "metadata": {
    "id": "1EStGW7laSee"
   },
   "source": [
    "#### 量子系で扱えるように行列を拡張する\n",
    "$W$ は6次元なので、3量子ビットあれば量子系で計算可能である ($2^3 = 8$)。\n",
    "そこで、拡張した2次元分を0で埋めた行列とベクトルも作っておく。"
   ]
  },
  {
   "cell_type": "code",
   "execution_count": 11,
   "metadata": {
    "id": "X9S8G1FbaSee"
   },
   "outputs": [
    {
     "name": "stderr",
     "output_type": "stream",
     "text": [
      "Input matrix does not have dimension 2**n. It will be expanded automatically.\n"
     ]
    }
   ],
   "source": [
    "matrix, vector, truncate_powerdim, truncate_hermitian = HHL.matrix_resize(W, mu_xi_0)"
   ]
  },
  {
   "cell_type": "code",
   "execution_count": 12,
   "metadata": {},
   "outputs": [
    {
     "name": "stdout",
     "output_type": "stream",
     "text": [
      "[[0.        +0.j 0.        +0.j 0.30021458+0.j 0.41119131+0.j 0.43015563+0.j 0.46456748+0.j 0.        +0.j 0.        +0.j]\n",
      " [0.        +0.j 0.        +0.j 1.        +0.j 1.        +0.j 1.        +0.j 1.        +0.j 0.        +0.j 0.        +0.j]\n",
      " [0.30021458+0.j 1.        +0.j 0.02369003+0.j 0.01330333+0.j 0.01838175+0.j 0.0216144 +0.j 0.        +0.j 0.        +0.j]\n",
      " [0.41119131+0.j 1.        +0.j 0.01330333+0.j 0.0311191 +0.j 0.01629131+0.j 0.01887668+0.j 0.        +0.j 0.        +0.j]\n",
      " [0.43015563+0.j 1.        +0.j 0.01838175+0.j 0.01629131+0.j 0.02885482+0.j 0.02333747+0.j 0.        +0.j 0.        +0.j]\n",
      " [0.46456748+0.j 1.        +0.j 0.0216144 +0.j 0.01887668+0.j 0.02333747+0.j 0.04412049+0.j 0.        +0.j 0.        +0.j]\n",
      " [0.        +0.j 0.        +0.j 0.        +0.j 0.        +0.j 0.        +0.j 0.        +0.j 1.        +0.j 0.        +0.j]\n",
      " [0.        +0.j 0.        +0.j 0.        +0.j 0.        +0.j 0.        +0.j 0.        +0.j 0.        +0.j 1.        +0.j]]\n"
     ]
    }
   ],
   "source": [
    "# 2**3=8次元の行列になっているか確認\n",
    "print(matrix)"
   ]
  },
  {
   "cell_type": "markdown",
   "metadata": {
    "id": "daTZtWmraSef"
   },
   "source": [
    "以上で、連立方程式(1)を解く準備が整った。\n",
    "\n",
    "### HHLアルゴリズムを用いた最小分散ポートフォリオ算出"
   ]
  },
  {
   "cell_type": "code",
   "execution_count": 13,
   "metadata": {},
   "outputs": [],
   "source": [
    "def create_eigs(matrix, num_ancillae, num_time_slices, negative_evals):\n",
    "    ne_qfts = [None, None]\n",
    "    if negative_evals:\n",
    "        num_ancillae += 1\n",
    "        # The QFT and IQFT circuits for handling negative eigenvalues\n",
    "        ne_qfts = [QFT(num_ancillae - 1), QFT(num_ancillae - 1).inverse()]\n",
    "\n",
    "    \"\"\"\n",
    "    Specifically, this class is based on PhaseEstimationCircuit with no measurements \n",
    "    and has additional handling of negative eigenvalues\n",
    "    \"\"\"\n",
    "    return EigsQPE(MatrixOperator(matrix=matrix), # The Hamiltonian Operator object\n",
    "                   QFT(num_ancillae).inverse(),\n",
    "                   num_time_slices=num_time_slices,\n",
    "                   num_ancillae=num_ancillae,\n",
    "                   expansion_mode='trotter', \n",
    "                   expansion_order=2, # The suzuki expansion order, has a minimum value of 1\n",
    "                   evo_time=None,  # This is t, can set to: np.pi*3/4\n",
    "                   negative_evals=negative_evals, # Set True to indicate negative eigenvalues need to be handled\n",
    "                   ne_qfts=ne_qfts)"
   ]
  },
  {
   "cell_type": "code",
   "execution_count": 14,
   "metadata": {},
   "outputs": [],
   "source": [
    "orig_size = len(vector)\n",
    "\n",
    "# Initialize eigenvalue finding module\n",
    "eigs = create_eigs(matrix, 7, 50, True)\n",
    "num_q, num_a = eigs.get_register_sizes()\n",
    "\n",
    "# Initialize reciprocal rotation module\n",
    "c = 0.5*(2 * np.pi * (1. / 2**(num_a) ))\n",
    "reci = LookupRotation(scale=c, negative_evals=eigs._negative_evals, evo_time=eigs._evo_time)"
   ]
  },
  {
   "cell_type": "code",
   "execution_count": 15,
   "metadata": {},
   "outputs": [],
   "source": [
    "# print('number of qubit: {}, number of ancilla: {}'.format(num_q, num_a))"
   ]
  },
  {
   "cell_type": "code",
   "execution_count": 16,
   "metadata": {},
   "outputs": [],
   "source": [
    "# Initialize initial state module\n",
    "init_state = Custom(num_q, state_vector=vector)"
   ]
  },
  {
   "cell_type": "code",
   "execution_count": 17,
   "metadata": {},
   "outputs": [],
   "source": [
    "algo = HHL(\n",
    "    matrix,\n",
    "    vector, \n",
    "    truncate_powerdim, \n",
    "    truncate_hermitian, \n",
    "    eigs, # The eigenvalue estimation instance\n",
    "    init_state, # The initial quantum state preparation\n",
    "    reci, # The eigenvalue reciprocal and controlled rotation instance\n",
    "    num_q, # Number of qubits required for the matrix Operator instance\n",
    "    num_a, # Number of ancillary qubits for Eigenvalues instance\n",
    "    orig_size # The original dimension of the problem (if truncate_powerdim)\n",
    "    )"
   ]
  },
  {
   "cell_type": "markdown",
   "metadata": {
    "id": "Xqu0eNE2aSek"
   },
   "source": [
    "HHL アルゴリズムによる解 `x_HHL` と、通常の古典計算の対角化による解 `x_exact` を比べると、概ね一致していることが分かる。（HHLアルゴリズムの精度を決めるパラメータはいくつかある（例えば`reg_nbit`）ので、それらを変えて色々試してみて頂きたい。）"
   ]
  },
  {
   "cell_type": "code",
   "execution_count": 18,
   "metadata": {
    "id": "D_EmoWRUaSen",
    "outputId": "0526664b-3233-458a-cccf-5244a649e8d3"
   },
   "outputs": [],
   "source": [
    "## 結果\n",
    "x_HHL = algo.run(QuantumInstance(Aer.get_backend('statevector_simulator')))\n",
    "## 厳密解\n",
    "# x_exact = np.linalg.lstsq(matrix, vector, rcond=0)[0]\n",
    "x_exact = NumPyLSsolver(matrix, vector).run()"
   ]
  },
  {
   "cell_type": "code",
   "execution_count": 19,
   "metadata": {},
   "outputs": [],
   "source": [
    "def fidelity(hhl, ref):\n",
    "    solution_hhl_normed = hhl / np.linalg.norm(hhl)\n",
    "    solution_ref_normed = ref / np.linalg.norm(ref)\n",
    "    fidelity = state_fidelity(solution_hhl_normed, solution_ref_normed)\n",
    "    print(\"Fidelity:\\t\\t %f\" % fidelity)"
   ]
  },
  {
   "cell_type": "code",
   "execution_count": 20,
   "metadata": {},
   "outputs": [
    {
     "name": "stdout",
     "output_type": "stream",
     "text": [
      "Fidelity:\t\t 0.968245\n"
     ]
    }
   ],
   "source": [
    "fidelity(x_HHL.solution, x_exact.solution)"
   ]
  },
  {
   "cell_type": "code",
   "execution_count": 21,
   "metadata": {},
   "outputs": [
    {
     "name": "stdout",
     "output_type": "stream",
     "text": [
      "circuit_width:\t 14\n",
      "circuit_depth:\t 1252\n",
      "CNOT gates:\t 404\n"
     ]
    }
   ],
   "source": [
    "# the number of qubits required\n",
    "print(\"circuit_width:\\t\", x_HHL['circuit_info']['width'])\n",
    "# the maximum number of gates\n",
    "print(\"circuit_depth:\\t\", x_HHL['circuit_info']['depth'])\n",
    "# To verify whether running the circuit on current real hardware is feasible\n",
    "print(\"CNOT gates:\\t\", x_HHL['circuit_info']['operations']['cx'])"
   ]
  },
  {
   "cell_type": "markdown",
   "metadata": {
    "id": "4hHQ1mEFaSen"
   },
   "source": [
    "実際のウェイトの部分だけ取り出すと"
   ]
  },
  {
   "cell_type": "code",
   "execution_count": 22,
   "metadata": {
    "id": "5HVP7rSIaSen",
    "outputId": "9fb6c791-c20d-4e14-c385-d1e0c893214d"
   },
   "outputs": [
    {
     "data": {
      "text/html": [
       "<div>\n",
       "<style scoped>\n",
       "    .dataframe tbody tr th:only-of-type {\n",
       "        vertical-align: middle;\n",
       "    }\n",
       "\n",
       "    .dataframe tbody tr th {\n",
       "        vertical-align: top;\n",
       "    }\n",
       "\n",
       "    .dataframe thead th {\n",
       "        text-align: right;\n",
       "    }\n",
       "</style>\n",
       "<table border=\"1\" class=\"dataframe\">\n",
       "  <thead>\n",
       "    <tr style=\"text-align: right;\">\n",
       "      <th></th>\n",
       "      <th>exact</th>\n",
       "      <th>HHL</th>\n",
       "    </tr>\n",
       "    <tr>\n",
       "      <th>Symbols</th>\n",
       "      <th></th>\n",
       "      <th></th>\n",
       "    </tr>\n",
       "  </thead>\n",
       "  <tbody>\n",
       "    <tr>\n",
       "      <th>GOOG</th>\n",
       "      <td>2.299968+0.000000j</td>\n",
       "      <td>2.043982+0.019195j</td>\n",
       "    </tr>\n",
       "    <tr>\n",
       "      <th>AAPL</th>\n",
       "      <td>0.177122+0.000000j</td>\n",
       "      <td>0.080746+0.004812j</td>\n",
       "    </tr>\n",
       "    <tr>\n",
       "      <th>FB</th>\n",
       "      <td>-0.665268-0.000000j</td>\n",
       "      <td>-0.257534-0.002321j</td>\n",
       "    </tr>\n",
       "    <tr>\n",
       "      <th>AMZN</th>\n",
       "      <td>-0.811823-0.000000j</td>\n",
       "      <td>-0.871102-0.008406j</td>\n",
       "    </tr>\n",
       "  </tbody>\n",
       "</table>\n",
       "</div>"
      ],
      "text/plain": [
       "                      exact                 HHL\n",
       "Symbols                                        \n",
       "GOOG     2.299968+0.000000j  2.043982+0.019195j\n",
       "AAPL     0.177122+0.000000j  0.080746+0.004812j\n",
       "FB      -0.665268-0.000000j -0.257534-0.002321j\n",
       "AMZN    -0.811823-0.000000j -0.871102-0.008406j"
      ]
     },
     "execution_count": 22,
     "metadata": {},
     "output_type": "execute_result"
    }
   ],
   "source": [
    "w_opt_HHL = x_HHL.solution[2:6] \n",
    "w_opt_exact = x_exact.solution[2:6] \n",
    "w_opt = pd.DataFrame(np.vstack([w_opt_exact, w_opt_HHL]).T, index=df.columns, columns=['exact', 'HHL'])\n",
    "w_opt"
   ]
  },
  {
   "cell_type": "code",
   "execution_count": 23,
   "metadata": {
    "id": "WWC7unicaSeo",
    "outputId": "cad250cb-d416-4491-f3a1-9c00e4088960"
   },
   "outputs": [
    {
     "name": "stderr",
     "output_type": "stream",
     "text": [
      "/Users/muratadaiki/opt/anaconda3/lib/python3.7/site-packages/matplotlib/transforms.py:796: ComplexWarning: Casting complex values to real discards the imaginary part\n",
      "  points = np.array(args, dtype=float).reshape(2, 2)\n"
     ]
    },
    {
     "data": {
      "text/plain": [
       "<matplotlib.axes._subplots.AxesSubplot at 0x7f7be5767a50>"
      ]
     },
     "execution_count": 23,
     "metadata": {},
     "output_type": "execute_result"
    },
    {
     "data": {
      "image/png": "[encoded data removed]",
      "text/plain": [
       "<Figure size 432x288 with 1 Axes>"
      ]
     },
     "metadata": {
      "needs_background": "light"
     },
     "output_type": "display_data"
    }
   ],
   "source": [
    "w_opt.plot.bar()"
   ]
  },
  {
   "cell_type": "markdown",
   "metadata": {
    "id": "7wuQFyUZaSeo"
   },
   "source": [
    "※重みが負になっている銘柄は、「空売り」（株を借りてきて売ること。株価が下がる局面で利益が得られる手法）を表す。今回は目標リターンが10%と、GAFA株（単独で30〜40%の期待リターン）にしてはかなり小さい値を設定したため、空売りを行って全体の期待リターンを下げていると思われる。\n",
    "\n",
    "### Appendix: バックテスト\n",
    "過去のデータから得られた投資ルールを、それ以降のデータを用いて検証することを「バックテスト」と呼び、その投資ルールの有効性を測るために重要である。\n",
    "ここでは以上のように2017年のデータから構築したポートフォリオに投資した場合に、翌年の2018年にどの程度資産価値が変化するかを観察する。"
   ]
  },
  {
   "cell_type": "code",
   "execution_count": 24,
   "metadata": {
    "id": "J9TT5N4_aSeo",
    "outputId": "0845daa3-429b-4ac4-e4d0-82eb7acce37f"
   },
   "outputs": [
    {
     "data": {
      "text/html": [
       "<div>\n",
       "<style scoped>\n",
       "    .dataframe tbody tr th:only-of-type {\n",
       "        vertical-align: middle;\n",
       "    }\n",
       "\n",
       "    .dataframe tbody tr th {\n",
       "        vertical-align: top;\n",
       "    }\n",
       "\n",
       "    .dataframe thead th {\n",
       "        text-align: right;\n",
       "    }\n",
       "</style>\n",
       "<table border=\"1\" class=\"dataframe\">\n",
       "  <thead>\n",
       "    <tr style=\"text-align: right;\">\n",
       "      <th>Symbols</th>\n",
       "      <th>GOOG</th>\n",
       "      <th>AAPL</th>\n",
       "      <th>FB</th>\n",
       "      <th>AMZN</th>\n",
       "    </tr>\n",
       "    <tr>\n",
       "      <th>Date</th>\n",
       "      <th></th>\n",
       "      <th></th>\n",
       "      <th></th>\n",
       "      <th></th>\n",
       "    </tr>\n",
       "  </thead>\n",
       "  <tbody>\n",
       "    <tr>\n",
       "      <th>2018-12-24</th>\n",
       "      <td>976.219971</td>\n",
       "      <td>35.800995</td>\n",
       "      <td>124.059998</td>\n",
       "      <td>1343.959961</td>\n",
       "    </tr>\n",
       "    <tr>\n",
       "      <th>2018-12-26</th>\n",
       "      <td>1039.459961</td>\n",
       "      <td>38.322155</td>\n",
       "      <td>134.179993</td>\n",
       "      <td>1470.900024</td>\n",
       "    </tr>\n",
       "    <tr>\n",
       "      <th>2018-12-27</th>\n",
       "      <td>1043.880005</td>\n",
       "      <td>38.073456</td>\n",
       "      <td>134.520004</td>\n",
       "      <td>1461.640015</td>\n",
       "    </tr>\n",
       "    <tr>\n",
       "      <th>2018-12-28</th>\n",
       "      <td>1037.079956</td>\n",
       "      <td>38.092960</td>\n",
       "      <td>133.199997</td>\n",
       "      <td>1478.020020</td>\n",
       "    </tr>\n",
       "    <tr>\n",
       "      <th>2018-12-31</th>\n",
       "      <td>1035.609985</td>\n",
       "      <td>38.461140</td>\n",
       "      <td>131.089996</td>\n",
       "      <td>1501.969971</td>\n",
       "    </tr>\n",
       "  </tbody>\n",
       "</table>\n",
       "</div>"
      ],
      "text/plain": [
       "Symbols            GOOG       AAPL          FB         AMZN\n",
       "Date                                                       \n",
       "2018-12-24   976.219971  35.800995  124.059998  1343.959961\n",
       "2018-12-26  1039.459961  38.322155  134.179993  1470.900024\n",
       "2018-12-27  1043.880005  38.073456  134.520004  1461.640015\n",
       "2018-12-28  1037.079956  38.092960  133.199997  1478.020020\n",
       "2018-12-31  1035.609985  38.461140  131.089996  1501.969971"
      ]
     },
     "metadata": {},
     "output_type": "display_data"
    }
   ],
   "source": [
    "# 2018年の1年間のデータを使用\n",
    "start = datetime.datetime(2017, 12, 30)\n",
    "end = datetime.datetime(2018, 12, 31)\n",
    "\n",
    "# Yahoo! Financeから日次の株価データを取得\n",
    "data = web.DataReader(codes, 'yahoo', start, end)\n",
    "\n",
    "df2018 = data['Adj Close'] \n",
    "\n",
    "display(df2018.tail())"
   ]
  },
  {
   "cell_type": "code",
   "execution_count": 25,
   "metadata": {
    "id": "tR6oIXhCaSeo",
    "outputId": "cf227b20-033f-4b36-c3bf-cfd21b37ce65"
   },
   "outputs": [
    {
     "data": {
      "text/plain": [
       "<matplotlib.axes._subplots.AxesSubplot at 0x7f7de276f410>"
      ]
     },
     "execution_count": 25,
     "metadata": {},
     "output_type": "execute_result"
    },
    {
     "data": {
      "image/png": "[encoded data removed]",
      "text/plain": [
       "<Figure size 1080x432 with 2 Axes>"
      ]
     },
     "metadata": {
      "needs_background": "light"
     },
     "output_type": "display_data"
    }
   ],
   "source": [
    "## 株価をプロットしてみる\n",
    "fig, axes = plt.subplots(nrows=1, ncols=2, figsize=(15, 6))\n",
    "df2018.loc[:,['AAPL', 'FB']].plot(ax=axes[0])\n",
    "df2018.loc[:,['GOOG', 'AMZN']].plot(ax=axes[1])"
   ]
  },
  {
   "cell_type": "code",
   "execution_count": 26,
   "metadata": {
    "id": "kYKFzBZMaSep",
    "outputId": "4e7458e4-26f9-4243-97d9-ce19c91f9578"
   },
   "outputs": [
    {
     "data": {
      "text/html": [
       "<div>\n",
       "<style scoped>\n",
       "    .dataframe tbody tr th:only-of-type {\n",
       "        vertical-align: middle;\n",
       "    }\n",
       "\n",
       "    .dataframe tbody tr th {\n",
       "        vertical-align: top;\n",
       "    }\n",
       "\n",
       "    .dataframe thead th {\n",
       "        text-align: right;\n",
       "    }\n",
       "</style>\n",
       "<table border=\"1\" class=\"dataframe\">\n",
       "  <thead>\n",
       "    <tr style=\"text-align: right;\">\n",
       "      <th></th>\n",
       "      <th>exact</th>\n",
       "      <th>HHL</th>\n",
       "    </tr>\n",
       "    <tr>\n",
       "      <th>Date</th>\n",
       "      <th></th>\n",
       "      <th></th>\n",
       "    </tr>\n",
       "  </thead>\n",
       "  <tbody>\n",
       "    <tr>\n",
       "      <th>2017-12-29</th>\n",
       "      <td>1347.092175+0.000000j</td>\n",
       "      <td>1077.933116+10.040407j</td>\n",
       "    </tr>\n",
       "    <tr>\n",
       "      <th>2018-01-02</th>\n",
       "      <td>1370.837684+0.000000j</td>\n",
       "      <td>1097.711168+10.225158j</td>\n",
       "    </tr>\n",
       "    <tr>\n",
       "      <th>2018-01-03</th>\n",
       "      <td>1396.546153+0.000000j</td>\n",
       "      <td>1119.370375+10.425412j</td>\n",
       "    </tr>\n",
       "    <tr>\n",
       "      <th>2018-01-04</th>\n",
       "      <td>1401.446624+0.000000j</td>\n",
       "      <td>1122.790700+10.457059j</td>\n",
       "    </tr>\n",
       "    <tr>\n",
       "      <th>2018-01-05</th>\n",
       "      <td>1420.391195+0.000000j</td>\n",
       "      <td>1137.505982+10.592994j</td>\n",
       "    </tr>\n",
       "  </tbody>\n",
       "</table>\n",
       "</div>"
      ],
      "text/plain": [
       "                            exact                     HHL\n",
       "Date                                                     \n",
       "2017-12-29  1347.092175+0.000000j  1077.933116+10.040407j\n",
       "2018-01-02  1370.837684+0.000000j  1097.711168+10.225158j\n",
       "2018-01-03  1396.546153+0.000000j  1119.370375+10.425412j\n",
       "2018-01-04  1401.446624+0.000000j  1122.790700+10.457059j\n",
       "2018-01-05  1420.391195+0.000000j  1137.505982+10.592994j"
      ]
     },
     "execution_count": 26,
     "metadata": {},
     "output_type": "execute_result"
    }
   ],
   "source": [
    "# ポートフォリオの資産価値の推移\n",
    "pf_value = df2018.dot(w_opt)\n",
    "pf_value.head()"
   ]
  },
  {
   "cell_type": "code",
   "execution_count": 27,
   "metadata": {
    "id": "q1rGnIWaaSep",
    "outputId": "3f829ee5-ab08-4cb6-9e32-21e11bd998c2"
   },
   "outputs": [
    {
     "name": "stdout",
     "output_type": "stream",
     "text": [
      "                         exact                 HHL\n",
      "Date                                              \n",
      "2018-12-24  0.800262+0.000000j  0.738070-0.000080j\n",
      "2018-12-26  0.827068+0.000000j  0.753174-0.000095j\n",
      "2018-12-27  0.839995+0.000000j  0.768938-0.000092j\n",
      "2018-12-28  0.819168+0.000000j  0.743124-0.000098j\n",
      "2018-12-31  0.803315+0.000000j  0.721514-0.000103j\n"
     ]
    }
   ],
   "source": [
    "# exact と HHLで初期金額が異なることがありうるので、期初の値で規格化したリターンをみる。\n",
    "pf_value.exact = pf_value.exact / pf_value.exact[0] \n",
    "pf_value.HHL = pf_value.HHL / pf_value.HHL[0] \n",
    "print(pf_value.tail())"
   ]
  },
  {
   "cell_type": "code",
   "execution_count": 28,
   "metadata": {
    "id": "n69eaxMcaSep",
    "outputId": "dc05785a-0a1b-4e63-e7ef-66edd3cb3bd0"
   },
   "outputs": [
    {
     "name": "stderr",
     "output_type": "stream",
     "text": [
      "/Users/muratadaiki/opt/anaconda3/lib/python3.7/site-packages/numpy/core/_asarray.py:85: ComplexWarning: Casting complex values to real discards the imaginary part\n",
      "  return array(a, dtype, copy=False, order=order)\n",
      "/Users/muratadaiki/opt/anaconda3/lib/python3.7/site-packages/numpy/core/_asarray.py:85: ComplexWarning: Casting complex values to real discards the imaginary part\n",
      "  return array(a, dtype, copy=False, order=order)\n"
     ]
    },
    {
     "data": {
      "text/plain": [
       "<matplotlib.axes._subplots.AxesSubplot at 0x7f82aa32ab50>"
      ]
     },
     "execution_count": 28,
     "metadata": {},
     "output_type": "execute_result"
    },
    {
     "data": {
      "image/png": "[encoded data removed]",
      "text/plain": [
       "<Figure size 648x432 with 1 Axes>"
      ]
     },
     "metadata": {
      "needs_background": "light"
     },
     "output_type": "display_data"
    }
   ],
   "source": [
    "pf_value.plot(figsize=(9, 6))"
   ]
  },
  {
   "cell_type": "markdown",
   "metadata": {
    "id": "1OO8tNdJaSep"
   },
   "source": [
    "2018年はAmazon以外のGAFA各社の株式が軟調だったので、およそ-20%もの損が出ているが、exact解の方は多少マシであるようだ。。\n",
    "ちなみに、元々行ったのはリスク最小化なので、この一年間のリスクも計算してみると、exact解の方が小さい結果となった。"
   ]
  },
  {
   "cell_type": "code",
   "execution_count": 29,
   "metadata": {
    "id": "3HwqM2QTaSeq",
    "outputId": "5e86ee72-c45f-4878-e44c-1f3f48b04377"
   },
   "outputs": [
    {
     "ename": "TypeError",
     "evalue": "No matching signature found",
     "output_type": "error",
     "traceback": [
      "\u001b[0;31m---------------------------------------------------------------------------\u001b[0m",
      "\u001b[0;31mTypeError\u001b[0m                                 Traceback (most recent call last)",
      "\u001b[0;32m<ipython-input-29-4cd15237c277>\u001b[0m in \u001b[0;36m<module>\u001b[0;34m\u001b[0m\n\u001b[0;32m----> 1\u001b[0;31m \u001b[0mpf_value\u001b[0m\u001b[0;34m.\u001b[0m\u001b[0mpct_change\u001b[0m\u001b[0;34m(\u001b[0m\u001b[0;34m)\u001b[0m\u001b[0;34m.\u001b[0m\u001b[0mstd\u001b[0m\u001b[0;34m(\u001b[0m\u001b[0;34m)\u001b[0m \u001b[0;34m*\u001b[0m \u001b[0mnp\u001b[0m\u001b[0;34m.\u001b[0m\u001b[0msqrt\u001b[0m\u001b[0;34m(\u001b[0m\u001b[0;36m252\u001b[0m\u001b[0;34m)\u001b[0m \u001b[0;31m## 年率換算\u001b[0m\u001b[0;34m\u001b[0m\u001b[0;34m\u001b[0m\u001b[0m\n\u001b[0m",
      "\u001b[0;32m~/opt/anaconda3/lib/python3.7/site-packages/pandas/core/generic.py\u001b[0m in \u001b[0;36mpct_change\u001b[0;34m(self, periods, fill_method, limit, freq, **kwargs)\u001b[0m\n\u001b[1;32m  10080\u001b[0m             \u001b[0mdata\u001b[0m \u001b[0;34m=\u001b[0m \u001b[0mself\u001b[0m\u001b[0;34m\u001b[0m\u001b[0;34m\u001b[0m\u001b[0m\n\u001b[1;32m  10081\u001b[0m         \u001b[0;32melse\u001b[0m\u001b[0;34m:\u001b[0m\u001b[0;34m\u001b[0m\u001b[0;34m\u001b[0m\u001b[0m\n\u001b[0;32m> 10082\u001b[0;31m             \u001b[0m_data\u001b[0m \u001b[0;34m=\u001b[0m \u001b[0mself\u001b[0m\u001b[0;34m.\u001b[0m\u001b[0mfillna\u001b[0m\u001b[0;34m(\u001b[0m\u001b[0mmethod\u001b[0m\u001b[0;34m=\u001b[0m\u001b[0mfill_method\u001b[0m\u001b[0;34m,\u001b[0m \u001b[0maxis\u001b[0m\u001b[0;34m=\u001b[0m\u001b[0maxis\u001b[0m\u001b[0;34m,\u001b[0m \u001b[0mlimit\u001b[0m\u001b[0;34m=\u001b[0m\u001b[0mlimit\u001b[0m\u001b[0;34m)\u001b[0m\u001b[0;34m\u001b[0m\u001b[0;34m\u001b[0m\u001b[0m\n\u001b[0m\u001b[1;32m  10083\u001b[0m             \u001b[0;32massert\u001b[0m \u001b[0m_data\u001b[0m \u001b[0;32mis\u001b[0m \u001b[0;32mnot\u001b[0m \u001b[0;32mNone\u001b[0m  \u001b[0;31m# needed for mypy\u001b[0m\u001b[0;34m\u001b[0m\u001b[0;34m\u001b[0m\u001b[0m\n\u001b[1;32m  10084\u001b[0m             \u001b[0mdata\u001b[0m \u001b[0;34m=\u001b[0m \u001b[0m_data\u001b[0m\u001b[0;34m\u001b[0m\u001b[0;34m\u001b[0m\u001b[0m\n",
      "\u001b[0;32m~/opt/anaconda3/lib/python3.7/site-packages/pandas/core/frame.py\u001b[0m in \u001b[0;36mfillna\u001b[0;34m(self, value, method, axis, inplace, limit, downcast)\u001b[0m\n\u001b[1;32m   4151\u001b[0m             \u001b[0minplace\u001b[0m\u001b[0;34m=\u001b[0m\u001b[0minplace\u001b[0m\u001b[0;34m,\u001b[0m\u001b[0;34m\u001b[0m\u001b[0;34m\u001b[0m\u001b[0m\n\u001b[1;32m   4152\u001b[0m             \u001b[0mlimit\u001b[0m\u001b[0;34m=\u001b[0m\u001b[0mlimit\u001b[0m\u001b[0;34m,\u001b[0m\u001b[0;34m\u001b[0m\u001b[0;34m\u001b[0m\u001b[0m\n\u001b[0;32m-> 4153\u001b[0;31m             \u001b[0mdowncast\u001b[0m\u001b[0;34m=\u001b[0m\u001b[0mdowncast\u001b[0m\u001b[0;34m,\u001b[0m\u001b[0;34m\u001b[0m\u001b[0;34m\u001b[0m\u001b[0m\n\u001b[0m\u001b[1;32m   4154\u001b[0m         )\n\u001b[1;32m   4155\u001b[0m \u001b[0;34m\u001b[0m\u001b[0m\n",
      "\u001b[0;32m~/opt/anaconda3/lib/python3.7/site-packages/pandas/core/generic.py\u001b[0m in \u001b[0;36mfillna\u001b[0;34m(self, value, method, axis, inplace, limit, downcast)\u001b[0m\n\u001b[1;32m   6193\u001b[0m                 \u001b[0minplace\u001b[0m\u001b[0;34m=\u001b[0m\u001b[0minplace\u001b[0m\u001b[0;34m,\u001b[0m\u001b[0;34m\u001b[0m\u001b[0;34m\u001b[0m\u001b[0m\n\u001b[1;32m   6194\u001b[0m                 \u001b[0mcoerce\u001b[0m\u001b[0;34m=\u001b[0m\u001b[0;32mTrue\u001b[0m\u001b[0;34m,\u001b[0m\u001b[0;34m\u001b[0m\u001b[0;34m\u001b[0m\u001b[0m\n\u001b[0;32m-> 6195\u001b[0;31m                 \u001b[0mdowncast\u001b[0m\u001b[0;34m=\u001b[0m\u001b[0mdowncast\u001b[0m\u001b[0;34m,\u001b[0m\u001b[0;34m\u001b[0m\u001b[0;34m\u001b[0m\u001b[0m\n\u001b[0m\u001b[1;32m   6196\u001b[0m             )\n\u001b[1;32m   6197\u001b[0m         \u001b[0;32melse\u001b[0m\u001b[0;34m:\u001b[0m\u001b[0;34m\u001b[0m\u001b[0;34m\u001b[0m\u001b[0m\n",
      "\u001b[0;32m~/opt/anaconda3/lib/python3.7/site-packages/pandas/core/internals/managers.py\u001b[0m in \u001b[0;36minterpolate\u001b[0;34m(self, **kwargs)\u001b[0m\n\u001b[1;32m    568\u001b[0m \u001b[0;34m\u001b[0m\u001b[0m\n\u001b[1;32m    569\u001b[0m     \u001b[0;32mdef\u001b[0m \u001b[0minterpolate\u001b[0m\u001b[0;34m(\u001b[0m\u001b[0mself\u001b[0m\u001b[0;34m,\u001b[0m \u001b[0;34m**\u001b[0m\u001b[0mkwargs\u001b[0m\u001b[0;34m)\u001b[0m\u001b[0;34m:\u001b[0m\u001b[0;34m\u001b[0m\u001b[0;34m\u001b[0m\u001b[0m\n\u001b[0;32m--> 570\u001b[0;31m         \u001b[0;32mreturn\u001b[0m \u001b[0mself\u001b[0m\u001b[0;34m.\u001b[0m\u001b[0mapply\u001b[0m\u001b[0;34m(\u001b[0m\u001b[0;34m\"interpolate\"\u001b[0m\u001b[0;34m,\u001b[0m \u001b[0;34m**\u001b[0m\u001b[0mkwargs\u001b[0m\u001b[0;34m)\u001b[0m\u001b[0;34m\u001b[0m\u001b[0;34m\u001b[0m\u001b[0m\n\u001b[0m\u001b[1;32m    571\u001b[0m \u001b[0;34m\u001b[0m\u001b[0m\n\u001b[1;32m    572\u001b[0m     \u001b[0;32mdef\u001b[0m \u001b[0mshift\u001b[0m\u001b[0;34m(\u001b[0m\u001b[0mself\u001b[0m\u001b[0;34m,\u001b[0m \u001b[0;34m**\u001b[0m\u001b[0mkwargs\u001b[0m\u001b[0;34m)\u001b[0m\u001b[0;34m:\u001b[0m\u001b[0;34m\u001b[0m\u001b[0;34m\u001b[0m\u001b[0m\n",
      "\u001b[0;32m~/opt/anaconda3/lib/python3.7/site-packages/pandas/core/internals/managers.py\u001b[0m in \u001b[0;36mapply\u001b[0;34m(self, f, filter, **kwargs)\u001b[0m\n\u001b[1;32m    440\u001b[0m                 \u001b[0mapplied\u001b[0m \u001b[0;34m=\u001b[0m \u001b[0mb\u001b[0m\u001b[0;34m.\u001b[0m\u001b[0mapply\u001b[0m\u001b[0;34m(\u001b[0m\u001b[0mf\u001b[0m\u001b[0;34m,\u001b[0m \u001b[0;34m**\u001b[0m\u001b[0mkwargs\u001b[0m\u001b[0;34m)\u001b[0m\u001b[0;34m\u001b[0m\u001b[0;34m\u001b[0m\u001b[0m\n\u001b[1;32m    441\u001b[0m             \u001b[0;32melse\u001b[0m\u001b[0;34m:\u001b[0m\u001b[0;34m\u001b[0m\u001b[0;34m\u001b[0m\u001b[0m\n\u001b[0;32m--> 442\u001b[0;31m                 \u001b[0mapplied\u001b[0m \u001b[0;34m=\u001b[0m \u001b[0mgetattr\u001b[0m\u001b[0;34m(\u001b[0m\u001b[0mb\u001b[0m\u001b[0;34m,\u001b[0m \u001b[0mf\u001b[0m\u001b[0;34m)\u001b[0m\u001b[0;34m(\u001b[0m\u001b[0;34m**\u001b[0m\u001b[0mkwargs\u001b[0m\u001b[0;34m)\u001b[0m\u001b[0;34m\u001b[0m\u001b[0;34m\u001b[0m\u001b[0m\n\u001b[0m\u001b[1;32m    443\u001b[0m             \u001b[0mresult_blocks\u001b[0m \u001b[0;34m=\u001b[0m \u001b[0m_extend_blocks\u001b[0m\u001b[0;34m(\u001b[0m\u001b[0mapplied\u001b[0m\u001b[0;34m,\u001b[0m \u001b[0mresult_blocks\u001b[0m\u001b[0;34m)\u001b[0m\u001b[0;34m\u001b[0m\u001b[0;34m\u001b[0m\u001b[0m\n\u001b[1;32m    444\u001b[0m \u001b[0;34m\u001b[0m\u001b[0m\n",
      "\u001b[0;32m~/opt/anaconda3/lib/python3.7/site-packages/pandas/core/internals/blocks.py\u001b[0m in \u001b[0;36minterpolate\u001b[0;34m(self, method, axis, index, values, inplace, limit, limit_direction, limit_area, fill_value, coerce, downcast, **kwargs)\u001b[0m\n\u001b[1;32m   1149\u001b[0m                 \u001b[0mfill_value\u001b[0m\u001b[0;34m=\u001b[0m\u001b[0mfill_value\u001b[0m\u001b[0;34m,\u001b[0m\u001b[0;34m\u001b[0m\u001b[0;34m\u001b[0m\u001b[0m\n\u001b[1;32m   1150\u001b[0m                 \u001b[0mcoerce\u001b[0m\u001b[0;34m=\u001b[0m\u001b[0mcoerce\u001b[0m\u001b[0;34m,\u001b[0m\u001b[0;34m\u001b[0m\u001b[0;34m\u001b[0m\u001b[0m\n\u001b[0;32m-> 1151\u001b[0;31m                 \u001b[0mdowncast\u001b[0m\u001b[0;34m=\u001b[0m\u001b[0mdowncast\u001b[0m\u001b[0;34m,\u001b[0m\u001b[0;34m\u001b[0m\u001b[0;34m\u001b[0m\u001b[0m\n\u001b[0m\u001b[1;32m   1152\u001b[0m             )\n\u001b[1;32m   1153\u001b[0m         \u001b[0;31m# validate the interp method\u001b[0m\u001b[0;34m\u001b[0m\u001b[0;34m\u001b[0m\u001b[0;34m\u001b[0m\u001b[0m\n",
      "\u001b[0;32m~/opt/anaconda3/lib/python3.7/site-packages/pandas/core/internals/blocks.py\u001b[0m in \u001b[0;36m_interpolate_with_fill\u001b[0;34m(self, method, axis, inplace, limit, fill_value, coerce, downcast)\u001b[0m\n\u001b[1;32m   1205\u001b[0m             \u001b[0mlimit\u001b[0m\u001b[0;34m=\u001b[0m\u001b[0mlimit\u001b[0m\u001b[0;34m,\u001b[0m\u001b[0;34m\u001b[0m\u001b[0;34m\u001b[0m\u001b[0m\n\u001b[1;32m   1206\u001b[0m             \u001b[0mfill_value\u001b[0m\u001b[0;34m=\u001b[0m\u001b[0mfill_value\u001b[0m\u001b[0;34m,\u001b[0m\u001b[0;34m\u001b[0m\u001b[0;34m\u001b[0m\u001b[0m\n\u001b[0;32m-> 1207\u001b[0;31m             \u001b[0mdtype\u001b[0m\u001b[0;34m=\u001b[0m\u001b[0mself\u001b[0m\u001b[0;34m.\u001b[0m\u001b[0mdtype\u001b[0m\u001b[0;34m,\u001b[0m\u001b[0;34m\u001b[0m\u001b[0;34m\u001b[0m\u001b[0m\n\u001b[0m\u001b[1;32m   1208\u001b[0m         )\n\u001b[1;32m   1209\u001b[0m \u001b[0;34m\u001b[0m\u001b[0m\n",
      "\u001b[0;32m~/opt/anaconda3/lib/python3.7/site-packages/pandas/core/missing.py\u001b[0m in \u001b[0;36minterpolate_2d\u001b[0;34m(values, method, axis, limit, fill_value, dtype)\u001b[0m\n\u001b[1;32m    504\u001b[0m     \u001b[0mmethod\u001b[0m \u001b[0;34m=\u001b[0m \u001b[0mclean_fill_method\u001b[0m\u001b[0;34m(\u001b[0m\u001b[0mmethod\u001b[0m\u001b[0;34m)\u001b[0m\u001b[0;34m\u001b[0m\u001b[0;34m\u001b[0m\u001b[0m\n\u001b[1;32m    505\u001b[0m     \u001b[0;32mif\u001b[0m \u001b[0mmethod\u001b[0m \u001b[0;34m==\u001b[0m \u001b[0;34m\"pad\"\u001b[0m\u001b[0;34m:\u001b[0m\u001b[0;34m\u001b[0m\u001b[0;34m\u001b[0m\u001b[0m\n\u001b[0;32m--> 506\u001b[0;31m         \u001b[0mvalues\u001b[0m \u001b[0;34m=\u001b[0m \u001b[0mtransf\u001b[0m\u001b[0;34m(\u001b[0m\u001b[0mpad_2d\u001b[0m\u001b[0;34m(\u001b[0m\u001b[0mtransf\u001b[0m\u001b[0;34m(\u001b[0m\u001b[0mvalues\u001b[0m\u001b[0;34m)\u001b[0m\u001b[0;34m,\u001b[0m \u001b[0mlimit\u001b[0m\u001b[0;34m=\u001b[0m\u001b[0mlimit\u001b[0m\u001b[0;34m,\u001b[0m \u001b[0mmask\u001b[0m\u001b[0;34m=\u001b[0m\u001b[0mmask\u001b[0m\u001b[0;34m,\u001b[0m \u001b[0mdtype\u001b[0m\u001b[0;34m=\u001b[0m\u001b[0mdtype\u001b[0m\u001b[0;34m)\u001b[0m\u001b[0;34m)\u001b[0m\u001b[0;34m\u001b[0m\u001b[0;34m\u001b[0m\u001b[0m\n\u001b[0m\u001b[1;32m    507\u001b[0m     \u001b[0;32melse\u001b[0m\u001b[0;34m:\u001b[0m\u001b[0;34m\u001b[0m\u001b[0;34m\u001b[0m\u001b[0m\n\u001b[1;32m    508\u001b[0m         values = transf(\n",
      "\u001b[0;32m~/opt/anaconda3/lib/python3.7/site-packages/pandas/core/missing.py\u001b[0m in \u001b[0;36mpad_2d\u001b[0;34m(values, limit, mask, dtype)\u001b[0m\n\u001b[1;32m    573\u001b[0m \u001b[0;34m\u001b[0m\u001b[0m\n\u001b[1;32m    574\u001b[0m     \u001b[0;32mif\u001b[0m \u001b[0mnp\u001b[0m\u001b[0;34m.\u001b[0m\u001b[0mall\u001b[0m\u001b[0;34m(\u001b[0m\u001b[0mvalues\u001b[0m\u001b[0;34m.\u001b[0m\u001b[0mshape\u001b[0m\u001b[0;34m)\u001b[0m\u001b[0;34m:\u001b[0m\u001b[0;34m\u001b[0m\u001b[0;34m\u001b[0m\u001b[0m\n\u001b[0;32m--> 575\u001b[0;31m         \u001b[0malgos\u001b[0m\u001b[0;34m.\u001b[0m\u001b[0mpad_2d_inplace\u001b[0m\u001b[0;34m(\u001b[0m\u001b[0mvalues\u001b[0m\u001b[0;34m,\u001b[0m \u001b[0mmask\u001b[0m\u001b[0;34m,\u001b[0m \u001b[0mlimit\u001b[0m\u001b[0;34m=\u001b[0m\u001b[0mlimit\u001b[0m\u001b[0;34m)\u001b[0m\u001b[0;34m\u001b[0m\u001b[0;34m\u001b[0m\u001b[0m\n\u001b[0m\u001b[1;32m    576\u001b[0m     \u001b[0;32melse\u001b[0m\u001b[0;34m:\u001b[0m\u001b[0;34m\u001b[0m\u001b[0;34m\u001b[0m\u001b[0m\n\u001b[1;32m    577\u001b[0m         \u001b[0;31m# for test coverage\u001b[0m\u001b[0;34m\u001b[0m\u001b[0;34m\u001b[0m\u001b[0;34m\u001b[0m\u001b[0m\n",
      "\u001b[0;32mpandas/_libs/algos.pyx\u001b[0m in \u001b[0;36mpandas._libs.algos.__pyx_fused_cpdef\u001b[0;34m()\u001b[0m\n",
      "\u001b[0;31mTypeError\u001b[0m: No matching signature found"
     ]
    }
   ],
   "source": [
    "pf_value.pct_change().std() * np.sqrt(252) ## 年率換算"
   ]
  },
  {
   "cell_type": "markdown",
   "metadata": {
    "id": "mCHD8ID4aSeq"
   },
   "source": [
    "### 参考文献\n",
    "[1] P. Rebentrost and S. Lloyd, “Quantum computational finance: quantum algorithm for portfolio optimization“, https://arxiv.org/abs/1811.03975"
   ]
  }
 ],
 "metadata": {
  "colab": {
   "name": "7.3_application_of_HHL_algorithm.ipynb",
   "provenance": []
  },
  "kernelspec": {
   "display_name": "Python 3",
   "language": "python",
   "name": "python3"
  },
  "language_info": {
   "codemirror_mode": {
    "name": "ipython",
    "version": 3
   },
   "file_extension": ".py",
   "mimetype": "text/x-python",
   "name": "python",
   "nbconvert_exporter": "python",
   "pygments_lexer": "ipython3",
   "version": "3.7.6"
  },
  "varInspector": {
   "cols": {
    "lenName": 16,
    "lenType": 16,
    "lenVar": 40
   },
   "kernels_config": {
    "python": {
     "delete_cmd_postfix": "",
     "delete_cmd_prefix": "del ",
     "library": "var_list.py",
     "varRefreshCmd": "print(var_dic_list())"
    },
    "r": {
     "delete_cmd_postfix": ") ",
     "delete_cmd_prefix": "rm(",
     "library": "var_list.r",
     "varRefreshCmd": "cat(var_dic_list()) "
    }
   },
   "types_to_exclude": [
    "module",
    "function",
    "builtin_function_or_method",
    "instance",
    "_Feature"
   ],
   "window_display": false
  }
 },
 "nbformat": 4,
 "nbformat_minor": 1
}
