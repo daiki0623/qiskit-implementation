{
 "cells": [
  {
   "cell_type": "code",
   "execution_count": 1,
   "metadata": {},
   "outputs": [],
   "source": [
    "from qiskit import * \n",
    "from qiskit import Aer\n",
    "from qiskit.aqua import QuantumInstance\n",
    "from qiskit.aqua.operators import Z\n",
    "from qiskit.aqua.operators.state_fns import StateFn, CircuitStateFn\n",
    "from qiskit.aqua.operators.expectations import PauliExpectation, AerPauliExpectation\n",
    "from qiskit.aqua.operators.converters import CircuitSampler\n",
    "\n",
    "import matplotlib.pyplot as plt\n",
    "import matplotlib.cm as cm\n",
    "import matplotlib.colors as colors\n",
    "import numpy as np\n",
    "%matplotlib inline"
   ]
  },
  {
   "cell_type": "code",
   "execution_count": 2,
   "metadata": {},
   "outputs": [],
   "source": [
    "nqubits = 6 # 量子ビット数\n",
    "sv = 2**nqubits # 状態数\n",
    "t = 3.0 # ダイナミクスをシミュレーションする時間\n",
    "M = 100 # トロッター分解の分割数\n",
    "delta = t/M # 時間の刻み幅\n",
    "h = 3 # 外部磁場"
   ]
  },
  {
   "cell_type": "code",
   "execution_count": 3,
   "metadata": {},
   "outputs": [],
   "source": [
    "def get_expectation_val(psi, op):\n",
    "    # define your backend or quantum instance\n",
    "    backend = Aer.get_backend('qasm_simulator') \n",
    "    q_instance = QuantumInstance(backend, shots=1024)\n",
    "    \n",
    "    # define the state to sample\n",
    "    measurable_expression = StateFn(op, is_measurement=True).compose(psi) \n",
    "\n",
    "    # convert to expectation value\n",
    "    expectation = PauliExpectation().convert(measurable_expression)  \n",
    "#     expectation = AerPauliExpectation().convert(measurable_expression)\n",
    "\n",
    "    # get state sampler (you can also pass the backend directly)\n",
    "    sampler = CircuitSampler(q_instance).convert(expectation) \n",
    "\n",
    "    # evaluate\n",
    "    return sampler.eval().real"
   ]
  },
  {
   "cell_type": "code",
   "execution_count": 4,
   "metadata": {
    "scrolled": true
   },
   "outputs": [
    {
     "name": "stdout",
     "output_type": "stream",
     "text": [
      "6ビットの初期状態を入力してください。重ね合わせは'+'。(例:000+)\n",
      "000000\n"
     ]
    },
    {
     "data": {
      "image/png": "[encoded data removed]",
      "text/plain": [
       "<Figure size 432x288 with 1 Axes>"
      ]
     },
     "metadata": {
      "needs_background": "light"
     },
     "output_type": "display_data"
    }
   ],
   "source": [
    "#回路の準備\n",
    "circuit_trotter_transIsing = QuantumCircuit(nqubits)\n",
    "\n",
    "# 初期状態の準備\n",
    "print(\"{}ビットの初期状態を入力してください。重ね合わせは'+'。(例:000+)\".format(nqubits))\n",
    "b_str = input()  # 入力ビットのバイナリ列\n",
    "for qubit in range(len(b_str)):\n",
    "    if b_str[qubit] == '1':\n",
    "        circuit_trotter_transIsing.x(qubit)\n",
    "    elif b_str[qubit] == '+':\n",
    "        circuit_trotter_transIsing.h(qubit)\n",
    "\n",
    "arr = [] #結果を格納する配列\n",
    "    \n",
    "# 計算\n",
    "for s in range(M):\n",
    "    # トロッター分解の1回分、\n",
    "    for i in range(nqubits):\n",
    "        circuit_trotter_transIsing.cx(i,(i+1)%nqubits)\n",
    "        circuit_trotter_transIsing.rz(-2*delta,(i+1)%nqubits)\n",
    "        circuit_trotter_transIsing.cx(i,(i+1)%nqubits)\n",
    "        circuit_trotter_transIsing.rx(-2*delta*h, i)\n",
    "    \n",
    "    # 磁化の期待値を求める\n",
    "    psi = CircuitStateFn(circuit_trotter_transIsing)\n",
    "    op = Z\n",
    "    result = get_expectation_val(psi, op)\n",
    "    #状態ベクトルの保存\n",
    "    arr.append(result)\n",
    "\n",
    "# 磁化ダイナミクス表示\n",
    "x = [i*delta for i in range(M)]\n",
    "\n",
    "plt.xlabel(\"time\")\n",
    "plt.ylabel(\"magnetization\")\n",
    "plt.plot(x, arr)\n",
    "plt.show()"
   ]
  },
  {
   "cell_type": "code",
   "execution_count": null,
   "metadata": {},
   "outputs": [],
   "source": []
  }
 ],
 "metadata": {
  "kernelspec": {
   "display_name": "Python 3",
   "language": "python",
   "name": "python3"
  },
  "language_info": {
   "codemirror_mode": {
    "name": "ipython",
    "version": 3
   },
   "file_extension": ".py",
   "mimetype": "text/x-python",
   "name": "python",
   "nbconvert_exporter": "python",
   "pygments_lexer": "ipython3",
   "version": "3.7.6"
  },
  "varInspector": {
   "cols": {
    "lenName": 16,
    "lenType": 16,
    "lenVar": 40
   },
   "kernels_config": {
    "python": {
     "delete_cmd_postfix": "",
     "delete_cmd_prefix": "del ",
     "library": "var_list.py",
     "varRefreshCmd": "print(var_dic_list())"
    },
    "r": {
     "delete_cmd_postfix": ") ",
     "delete_cmd_prefix": "rm(",
     "library": "var_list.r",
     "varRefreshCmd": "cat(var_dic_list()) "
    }
   },
   "types_to_exclude": [
    "module",
    "function",
    "builtin_function_or_method",
    "instance",
    "_Feature"
   ],
   "window_display": false
  }
 },
 "nbformat": 4,
 "nbformat_minor": 4
}
