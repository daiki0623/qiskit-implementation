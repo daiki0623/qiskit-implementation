{
 "cells": [
  {
   "cell_type": "code",
   "execution_count": 1,
   "metadata": {},
   "outputs": [],
   "source": [
    "from qiskit import * \n",
    "from qiskit.circuit import ParameterVector, QuantumCircuit\n",
    "import matplotlib.pyplot as plt\n",
    "import numpy as np\n",
    "%matplotlib inline"
   ]
  },
  {
   "cell_type": "code",
   "execution_count": 2,
   "metadata": {},
   "outputs": [
    {
     "data": {
      "text/html": [
       "<pre style=\"word-wrap: normal;white-space: pre;background: #fff0;line-height: 1.1;font-family: &quot;Courier New&quot;,Courier,monospace\">     ┌───┐           ░ ┌───────────────────┐ ░           ┌───┐┌─┐\n",
       "q_0: ┤ H ├──■────────░─┤ RZ(param_list[0]) ├─░────────■──┤ H ├┤M├\n",
       "     └───┘┌─┴─┐      ░ ├───────────────────┤ ░      ┌─┴─┐└───┘└╥┘\n",
       "q_1: ─────┤ X ├──■───░─┤ RZ(param_list[1]) ├─░───■──┤ X ├──────╫─\n",
       "          └───┘┌─┴─┐ ░ ├───────────────────┤ ░ ┌─┴─┐└───┘      ║ \n",
       "q_2: ──────────┤ X ├─░─┤ RZ(param_list[2]) ├─░─┤ X ├───────────╫─\n",
       "               └───┘ ░ └───────────────────┘ ░ └───┘           ║ \n",
       "c: 1/══════════════════════════════════════════════════════════╩═\n",
       "                                                               0 </pre>"
      ],
      "text/plain": [
       "     ┌───┐           ░ ┌───────────────────┐ ░           ┌───┐┌─┐\n",
       "q_0: ┤ H ├──■────────░─┤ RZ(param_list[0]) ├─░────────■──┤ H ├┤M├\n",
       "     └───┘┌─┴─┐      ░ ├───────────────────┤ ░      ┌─┴─┐└───┘└╥┘\n",
       "q_1: ─────┤ X ├──■───░─┤ RZ(param_list[1]) ├─░───■──┤ X ├──────╫─\n",
       "          └───┘┌─┴─┐ ░ ├───────────────────┤ ░ ┌─┴─┐└───┘      ║ \n",
       "q_2: ──────────┤ X ├─░─┤ RZ(param_list[2]) ├─░─┤ X ├───────────╫─\n",
       "               └───┘ ░ └───────────────────┘ ░ └───┘           ║ \n",
       "c: 1/══════════════════════════════════════════════════════════╩═\n",
       "                                                               0 "
      ]
     },
     "execution_count": 2,
     "metadata": {},
     "output_type": "execute_result"
    }
   ],
   "source": [
    "n = 3\n",
    "param_list = ParameterVector('param_list', n)\n",
    "qc = QuantumCircuit(n, 1)\n",
    "\n",
    "qc.h(0)\n",
    "for i in range(n-1):\n",
    "    qc.cx(i, i+1)\n",
    "\n",
    "qc.barrier()\n",
    "for i in range(n):\n",
    "    qc.rz(param_list[i], i)\n",
    "qc.barrier()\n",
    "\n",
    "for i in reversed(range(n-1)):\n",
    "    qc.cx(i, i+1)\n",
    "qc.h(0)\n",
    "qc.measure(0, 0)\n",
    "\n",
    "qc.draw()"
   ]
  },
  {
   "cell_type": "code",
   "execution_count": 3,
   "metadata": {},
   "outputs": [],
   "source": [
    "param_dict = dict(zip(param_list.params, [0.1 ,0.2, 0.3]))"
   ]
  },
  {
   "cell_type": "code",
   "execution_count": 4,
   "metadata": {},
   "outputs": [
    {
     "data": {
      "text/plain": [
       "{Parameter(param_list[0]): 0.1,\n",
       " Parameter(param_list[1]): 0.2,\n",
       " Parameter(param_list[2]): 0.3}"
      ]
     },
     "execution_count": 4,
     "metadata": {},
     "output_type": "execute_result"
    }
   ],
   "source": [
    "param_dict"
   ]
  },
  {
   "cell_type": "code",
   "execution_count": 5,
   "metadata": {},
   "outputs": [],
   "source": [
    "qc.assign_parameters(param_dict, inplace=True)"
   ]
  },
  {
   "cell_type": "code",
   "execution_count": null,
   "metadata": {},
   "outputs": [],
   "source": []
  }
 ],
 "metadata": {
  "kernelspec": {
   "display_name": "Python 3",
   "language": "python",
   "name": "python3"
  },
  "language_info": {
   "codemirror_mode": {
    "name": "ipython",
    "version": 3
   },
   "file_extension": ".py",
   "mimetype": "text/x-python",
   "name": "python",
   "nbconvert_exporter": "python",
   "pygments_lexer": "ipython3",
   "version": "3.7.6"
  },
  "varInspector": {
   "cols": {
    "lenName": 16,
    "lenType": 16,
    "lenVar": 40
   },
   "kernels_config": {
    "python": {
     "delete_cmd_postfix": "",
     "delete_cmd_prefix": "del ",
     "library": "var_list.py",
     "varRefreshCmd": "print(var_dic_list())"
    },
    "r": {
     "delete_cmd_postfix": ") ",
     "delete_cmd_prefix": "rm(",
     "library": "var_list.r",
     "varRefreshCmd": "cat(var_dic_list()) "
    }
   },
   "types_to_exclude": [
    "module",
    "function",
    "builtin_function_or_method",
    "instance",
    "_Feature"
   ],
   "window_display": false
  }
 },
 "nbformat": 4,
 "nbformat_minor": 4
}
